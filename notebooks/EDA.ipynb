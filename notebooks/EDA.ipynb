{
 "cells": [
  {
   "cell_type": "code",
   "execution_count": 807,
   "metadata": {},
   "outputs": [],
   "source": [
    "# Video games are sold all over the world which produces a large amount of data on user and expert reviews, genres, platforms (e.g. Xbox or PlayStation), and historical data on game sales. The goal of this project is to identify patterns that determine whether a game succeeds or not. This will allow identification of potential big winners and which games to plan advertising campaigns for. "
   ]
  },
  {
   "cell_type": "code",
   "execution_count": 808,
   "metadata": {},
   "outputs": [],
   "source": [
    "# Import packages needed for analysis of data\n",
    "import pandas as pd\n",
    "import plotly.express as px\n",
    "import re\n",
    "from matplotlib import pyplot as plt \n",
    "import numpy as np "
   ]
  },
  {
   "cell_type": "code",
   "execution_count": 809,
   "metadata": {},
   "outputs": [
    {
     "name": "stdout",
     "output_type": "stream",
     "text": [
      "<class 'pandas.core.frame.DataFrame'>\n",
      "RangeIndex: 16715 entries, 0 to 16714\n",
      "Data columns (total 11 columns):\n",
      " #   Column           Non-Null Count  Dtype  \n",
      "---  ------           --------------  -----  \n",
      " 0   Name             16713 non-null  object \n",
      " 1   Platform         16715 non-null  object \n",
      " 2   Year_of_Release  16446 non-null  float64\n",
      " 3   Genre            16713 non-null  object \n",
      " 4   NA_sales         16715 non-null  float64\n",
      " 5   EU_sales         16715 non-null  float64\n",
      " 6   JP_sales         16715 non-null  float64\n",
      " 7   Other_sales      16715 non-null  float64\n",
      " 8   Critic_Score     8137 non-null   float64\n",
      " 9   User_Score       10014 non-null  object \n",
      " 10  Rating           9949 non-null   object \n",
      "dtypes: float64(6), object(5)\n",
      "memory usage: 1.4+ MB\n",
      "None\n"
     ]
    }
   ],
   "source": [
    "# Print info of DataFrame to get all attributes of table at once\n",
    "DF = pd.read_csv(\"dataset.csv\")\n",
    "print(DF.info())"
   ]
  },
  {
   "cell_type": "code",
   "execution_count": 810,
   "metadata": {},
   "outputs": [
    {
     "name": "stdout",
     "output_type": "stream",
     "text": [
      "<class 'pandas.core.frame.DataFrame'>\n",
      "RangeIndex: 16715 entries, 0 to 16714\n",
      "Data columns (total 11 columns):\n",
      " #   Column           Non-Null Count  Dtype  \n",
      "---  ------           --------------  -----  \n",
      " 0   name             16713 non-null  object \n",
      " 1   platform         16715 non-null  object \n",
      " 2   year_of_release  16446 non-null  float64\n",
      " 3   genre            16713 non-null  object \n",
      " 4   na_sales         16715 non-null  float64\n",
      " 5   eu_sales         16715 non-null  float64\n",
      " 6   jp_sales         16715 non-null  float64\n",
      " 7   other_sales      16715 non-null  float64\n",
      " 8   critic_score     8137 non-null   float64\n",
      " 9   user_score       10014 non-null  object \n",
      " 10  rating           9949 non-null   object \n",
      "dtypes: float64(6), object(5)\n",
      "memory usage: 1.4+ MB\n",
      "None\n"
     ]
    }
   ],
   "source": [
    "# Rename column names to contain only lowercase letters\n",
    "DF = DF.rename(\n",
    "    columns={\n",
    "        'Name': 'name',\n",
    "        'Platform': 'platform',\n",
    "        'Year_of_Release': 'year_of_release',\n",
    "        'Genre': 'genre',\n",
    "        'NA_sales': 'na_sales',\n",
    "        'EU_sales': 'eu_sales',\n",
    "        'JP_sales': 'jp_sales',\n",
    "        'Other_sales': 'other_sales',\n",
    "        'Critic_Score': 'critic_score',\n",
    "        'User_Score': 'user_score',\n",
    "        'Rating': 'rating'\n",
    "    }\n",
    ")\n",
    "\n",
    "# Verify the change\n",
    "print(DF.info())\n"
   ]
  },
  {
   "cell_type": "code",
   "execution_count": 811,
   "metadata": {},
   "outputs": [
    {
     "name": "stdout",
     "output_type": "stream",
     "text": [
      "<class 'pandas.core.frame.DataFrame'>\n",
      "RangeIndex: 16715 entries, 0 to 16714\n",
      "Data columns (total 11 columns):\n",
      " #   Column           Non-Null Count  Dtype  \n",
      "---  ------           --------------  -----  \n",
      " 0   name             16713 non-null  object \n",
      " 1   platform         16715 non-null  object \n",
      " 2   year_of_release  16446 non-null  float64\n",
      " 3   genre            16713 non-null  object \n",
      " 4   na_sales         16715 non-null  float64\n",
      " 5   eu_sales         16715 non-null  float64\n",
      " 6   jp_sales         16715 non-null  float64\n",
      " 7   other_sales      16715 non-null  float64\n",
      " 8   critic_score     8137 non-null   float64\n",
      " 9   user_score       7590 non-null   float64\n",
      " 10  rating           9949 non-null   object \n",
      "dtypes: float64(7), object(4)\n",
      "memory usage: 1.4+ MB\n",
      "None\n"
     ]
    }
   ],
   "source": [
    "# Change the 'user_score' column from object to float to be able to conduct mathematical equations (ex: mean score, min score, max score, std score)\n",
    "DF['user_score'] = pd.to_numeric(DF['user_score'], errors='coerce')\n",
    "\n",
    "# Verify the change\n",
    "print(DF.info())\n"
   ]
  },
  {
   "cell_type": "code",
   "execution_count": 812,
   "metadata": {},
   "outputs": [
    {
     "name": "stdout",
     "output_type": "stream",
     "text": [
      "                       name platform  year_of_release         genre  na_sales  \\\n",
      "0                Wii Sports      Wii           2006.0        Sports     41.36   \n",
      "1         Super Mario Bros.      NES           1985.0      Platform     29.08   \n",
      "2            Mario Kart Wii      Wii           2008.0        Racing     15.68   \n",
      "3         Wii Sports Resort      Wii           2009.0        Sports     15.61   \n",
      "4  Pokemon Red/Pokemon Blue       GB           1996.0  Role-Playing     11.27   \n",
      "\n",
      "   eu_sales  jp_sales  other_sales  critic_score  user_score rating  \n",
      "0     28.96      3.77         8.45          76.0         8.0      E  \n",
      "1      3.58      6.81         0.77           NaN         NaN    NaN  \n",
      "2     12.76      3.79         3.29          82.0         8.3      E  \n",
      "3     10.93      3.28         2.95          80.0         8.0      E  \n",
      "4      8.89     10.22         1.00           NaN         NaN    NaN  \n"
     ]
    }
   ],
   "source": [
    "# Due to such a large dataset, it is not practical to display all the rows, thus we will print the first and last 5 rows.\n",
    "# Print the first 5 rows for a small sample of data to give a quick snapshot of the structure of the dataset.\n",
    "print(DF.head(5))"
   ]
  },
  {
   "cell_type": "code",
   "execution_count": 813,
   "metadata": {},
   "outputs": [
    {
     "name": "stdout",
     "output_type": "stream",
     "text": [
      "                                name platform  year_of_release       genre  \\\n",
      "16710  Samurai Warriors: Sanada Maru      PS3           2016.0      Action   \n",
      "16711               LMA Manager 2007     X360           2006.0      Sports   \n",
      "16712        Haitaka no Psychedelica      PSV           2016.0   Adventure   \n",
      "16713               Spirits & Spells      GBA           2003.0    Platform   \n",
      "16714            Winning Post 8 2016      PSV           2016.0  Simulation   \n",
      "\n",
      "       na_sales  eu_sales  jp_sales  other_sales  critic_score  user_score  \\\n",
      "16710      0.00      0.00      0.01          0.0           NaN         NaN   \n",
      "16711      0.00      0.01      0.00          0.0           NaN         NaN   \n",
      "16712      0.00      0.00      0.01          0.0           NaN         NaN   \n",
      "16713      0.01      0.00      0.00          0.0           NaN         NaN   \n",
      "16714      0.00      0.00      0.01          0.0           NaN         NaN   \n",
      "\n",
      "      rating  \n",
      "16710    NaN  \n",
      "16711    NaN  \n",
      "16712    NaN  \n",
      "16713    NaN  \n",
      "16714    NaN  \n"
     ]
    }
   ],
   "source": [
    "# Print last 5 rows for another sample of data to check if there are any special cases, outliers, or null values that weren't visible at the beginning.\n",
    "print(DF.tail(5))"
   ]
  },
  {
   "cell_type": "code",
   "execution_count": 814,
   "metadata": {},
   "outputs": [
    {
     "name": "stdout",
     "output_type": "stream",
     "text": [
      "0\n"
     ]
    }
   ],
   "source": [
    "# Check for any duplicates\n",
    "print(DF.duplicated().sum())"
   ]
  },
  {
   "cell_type": "code",
   "execution_count": 815,
   "metadata": {},
   "outputs": [
    {
     "name": "stdout",
     "output_type": "stream",
     "text": [
      "name                  2\n",
      "platform              0\n",
      "year_of_release     269\n",
      "genre                 2\n",
      "na_sales              0\n",
      "eu_sales              0\n",
      "jp_sales              0\n",
      "other_sales           0\n",
      "critic_score       8578\n",
      "user_score         9125\n",
      "rating             6766\n",
      "dtype: int64\n"
     ]
    }
   ],
   "source": [
    "# Find the total of missing values for each column\n",
    "print(DF.isna().sum())"
   ]
  },
  {
   "cell_type": "code",
   "execution_count": 816,
   "metadata": {},
   "outputs": [
    {
     "name": "stdout",
     "output_type": "stream",
     "text": [
      "default_value\n"
     ]
    }
   ],
   "source": [
    "# Make sure there are no TBD values for any of the columns before starting to assess missing values individually\n",
    "value = DF.get('TBD', 'default_value')  # Returns 'default_value' if 'TBD' does not exist\n",
    "print(value)"
   ]
  },
  {
   "cell_type": "code",
   "execution_count": 817,
   "metadata": {},
   "outputs": [
    {
     "name": "stdout",
     "output_type": "stream",
     "text": [
      "      name platform  year_of_release genre  na_sales  eu_sales  jp_sales  \\\n",
      "659    NaN      GEN           1993.0   NaN      1.78      0.53      0.00   \n",
      "14244  NaN      GEN           1993.0   NaN      0.00      0.00      0.03   \n",
      "\n",
      "       other_sales  critic_score  user_score rating  \n",
      "659           0.08           NaN         NaN    NaN  \n",
      "14244         0.00           NaN         NaN    NaN  \n"
     ]
    }
   ],
   "source": [
    "# Check to see if the missing values for the games with no names is significant enough to keep in the dataset\n",
    "missing_specific_name = DF[DF['name'].isnull()]\n",
    "print(missing_specific_name)\n",
    "\n",
    "# Because there are sales for the games with no names, will not drop them from the data set so as to have a more accurate analysis later on\n",
    "# The names could be missing, again, due to human error with information entry and source limitations if the data was collected from multiple platforms and databases"
   ]
  },
  {
   "cell_type": "code",
   "execution_count": 818,
   "metadata": {},
   "outputs": [
    {
     "name": "stdout",
     "output_type": "stream",
     "text": [
      "name                  0\n",
      "platform              0\n",
      "year_of_release     269\n",
      "genre                 2\n",
      "na_sales              0\n",
      "eu_sales              0\n",
      "jp_sales              0\n",
      "other_sales           0\n",
      "critic_score       8578\n",
      "user_score         9125\n",
      "rating             6766\n",
      "dtype: int64\n"
     ]
    }
   ],
   "source": [
    "# Will change NaN to N/A for the 2 games with no names to maintain consistency and good practice\n",
    "DF['name'] = DF['name'].fillna('N/A')\n",
    "\n",
    "# Verify the changes\n",
    "print(DF.isnull().sum())"
   ]
  },
  {
   "cell_type": "code",
   "execution_count": 819,
   "metadata": {},
   "outputs": [
    {
     "name": "stdout",
     "output_type": "stream",
     "text": [
      "                                    name platform  year_of_release  \\\n",
      "183                      Madden NFL 2004      PS2              NaN   \n",
      "377                     FIFA Soccer 2004      PS2              NaN   \n",
      "456           LEGO Batman: The Videogame      Wii              NaN   \n",
      "475           wwe Smackdown vs. Raw 2006      PS2              NaN   \n",
      "609                       Space Invaders     2600              NaN   \n",
      "...                                  ...      ...              ...   \n",
      "16373  PDC World Championship Darts 2008      PSP              NaN   \n",
      "16405                      Freaky Flyers       GC              NaN   \n",
      "16448                          Inversion       PC              NaN   \n",
      "16458        Hakuouki: Shinsengumi Kitan      PS3              NaN   \n",
      "16522                       Virtua Quest       GC              NaN   \n",
      "\n",
      "              genre  na_sales  eu_sales  jp_sales  other_sales  critic_score  \\\n",
      "183          Sports      4.26      0.26      0.01         0.71          94.0   \n",
      "377          Sports      0.59      2.36      0.04         0.51          84.0   \n",
      "456          Action      1.80      0.97      0.00         0.29          74.0   \n",
      "475        Fighting      1.57      1.02      0.00         0.41           NaN   \n",
      "609         Shooter      2.36      0.14      0.00         0.03           NaN   \n",
      "...             ...       ...       ...       ...          ...           ...   \n",
      "16373        Sports      0.01      0.00      0.00         0.00          43.0   \n",
      "16405        Racing      0.01      0.00      0.00         0.00          69.0   \n",
      "16448       Shooter      0.01      0.00      0.00         0.00          59.0   \n",
      "16458     Adventure      0.01      0.00      0.00         0.00           NaN   \n",
      "16522  Role-Playing      0.01      0.00      0.00         0.00          55.0   \n",
      "\n",
      "       user_score rating  \n",
      "183           8.5      E  \n",
      "377           6.4      E  \n",
      "456           7.9   E10+  \n",
      "475           NaN    NaN  \n",
      "609           NaN    NaN  \n",
      "...           ...    ...  \n",
      "16373         NaN   E10+  \n",
      "16405         6.5      T  \n",
      "16448         6.7      M  \n",
      "16458         NaN    NaN  \n",
      "16522         5.5      T  \n",
      "\n",
      "[269 rows x 11 columns]\n"
     ]
    }
   ],
   "source": [
    "# Check to see if the year might be in the name of the game, if so we can use that information in a loop to place it in the year_of_release column\n",
    "missing_specific_year= DF[DF['year_of_release'].isnull()]\n",
    "print(missing_specific_year)"
   ]
  },
  {
   "cell_type": "code",
   "execution_count": 820,
   "metadata": {},
   "outputs": [
    {
     "name": "stdout",
     "output_type": "stream",
     "text": [
      "                                name platform year_of_release         genre  \\\n",
      "0                         Wii Sports      Wii          2006.0        Sports   \n",
      "1                  Super Mario Bros.      NES          1985.0      Platform   \n",
      "2                     Mario Kart Wii      Wii          2008.0        Racing   \n",
      "3                  Wii Sports Resort      Wii          2009.0        Sports   \n",
      "4           Pokemon Red/Pokemon Blue       GB          1996.0  Role-Playing   \n",
      "...                              ...      ...             ...           ...   \n",
      "16710  Samurai Warriors: Sanada Maru      PS3          2016.0        Action   \n",
      "16711               LMA Manager 2007     X360            2007        Sports   \n",
      "16712        Haitaka no Psychedelica      PSV          2016.0     Adventure   \n",
      "16713               Spirits & Spells      GBA          2003.0      Platform   \n",
      "16714            Winning Post 8 2016      PSV            2016    Simulation   \n",
      "\n",
      "       na_sales  eu_sales  jp_sales  other_sales  critic_score  user_score  \\\n",
      "0         41.36     28.96      3.77         8.45          76.0         8.0   \n",
      "1         29.08      3.58      6.81         0.77           NaN         NaN   \n",
      "2         15.68     12.76      3.79         3.29          82.0         8.3   \n",
      "3         15.61     10.93      3.28         2.95          80.0         8.0   \n",
      "4         11.27      8.89     10.22         1.00           NaN         NaN   \n",
      "...         ...       ...       ...          ...           ...         ...   \n",
      "16710      0.00      0.00      0.01         0.00           NaN         NaN   \n",
      "16711      0.00      0.01      0.00         0.00           NaN         NaN   \n",
      "16712      0.00      0.00      0.01         0.00           NaN         NaN   \n",
      "16713      0.01      0.00      0.00         0.00           NaN         NaN   \n",
      "16714      0.00      0.00      0.01         0.00           NaN         NaN   \n",
      "\n",
      "      rating  \n",
      "0          E  \n",
      "1        NaN  \n",
      "2          E  \n",
      "3          E  \n",
      "4        NaN  \n",
      "...      ...  \n",
      "16710    NaN  \n",
      "16711    NaN  \n",
      "16712    NaN  \n",
      "16713    NaN  \n",
      "16714    NaN  \n",
      "\n",
      "[16715 rows x 11 columns]\n"
     ]
    }
   ],
   "source": [
    "# We now know there are a few games that have the year in the game title\n",
    "\n",
    "# Loop through each row to extract year and update the year_of_release column\n",
    "for index, row in DF.iterrows():\n",
    "    game_name = row['name']\n",
    "    if isinstance(game_name, str):  # Check if game_name is a string\n",
    "        match = re.search(r'\\b(\\d{4})\\b', game_name)\n",
    "        if match:\n",
    "            DF.at[index, 'year_of_release'] = str(match.group(1))  # Convert to string\n",
    "\n",
    "# Display the DataFrame\n",
    "print(DF)"
   ]
  },
  {
   "cell_type": "code",
   "execution_count": 821,
   "metadata": {},
   "outputs": [
    {
     "name": "stdout",
     "output_type": "stream",
     "text": [
      "name                  0\n",
      "platform              0\n",
      "year_of_release     252\n",
      "genre                 2\n",
      "na_sales              0\n",
      "eu_sales              0\n",
      "jp_sales              0\n",
      "other_sales           0\n",
      "critic_score       8578\n",
      "user_score         9125\n",
      "rating             6766\n",
      "dtype: int64\n"
     ]
    }
   ],
   "source": [
    "# Check to see how many missing values we now have in the year_of_release column\n",
    "print(DF.isnull().sum())"
   ]
  },
  {
   "cell_type": "code",
   "execution_count": 822,
   "metadata": {},
   "outputs": [
    {
     "name": "stdout",
     "output_type": "stream",
     "text": [
      "name                  0\n",
      "platform              0\n",
      "year_of_release       0\n",
      "genre                 2\n",
      "na_sales              0\n",
      "eu_sales              0\n",
      "jp_sales              0\n",
      "other_sales           0\n",
      "critic_score       8435\n",
      "user_score         8955\n",
      "rating             6651\n",
      "dtype: int64\n"
     ]
    }
   ],
   "source": [
    "# Drop rows where 'year_of_release' is missing (NaN)\n",
    "DF = DF.dropna(subset=['year_of_release'])\n",
    "\n",
    "# Convert the 'year_of_release' column to numeric type (int)\n",
    "DF['year_of_release'] = DF['year_of_release'].astype(int)\n",
    "\n",
    "# Filter rows to keep only those between 1980 and 2017\n",
    "DF = DF[(DF['year_of_release'] >= 1980) & (DF['year_of_release']<= 2017)]\n",
    "\n",
    "# Verify the changes\n",
    "print(DF.isnull().sum())"
   ]
  },
  {
   "cell_type": "code",
   "execution_count": 823,
   "metadata": {},
   "outputs": [
    {
     "name": "stdout",
     "output_type": "stream",
     "text": [
      "                                name platform  year_of_release         genre  \\\n",
      "0                         Wii Sports      Wii             2006        Sports   \n",
      "1                  Super Mario Bros.      NES             1985      Platform   \n",
      "2                     Mario Kart Wii      Wii             2008        Racing   \n",
      "3                  Wii Sports Resort      Wii             2009        Sports   \n",
      "4           Pokemon Red/Pokemon Blue       GB             1996  Role-Playing   \n",
      "...                              ...      ...              ...           ...   \n",
      "16710  Samurai Warriors: Sanada Maru      PS3             2016        Action   \n",
      "16711               LMA Manager 2007     X360             2007        Sports   \n",
      "16712        Haitaka no Psychedelica      PSV             2016     Adventure   \n",
      "16713               Spirits & Spells      GBA             2003      Platform   \n",
      "16714            Winning Post 8 2016      PSV             2016    Simulation   \n",
      "\n",
      "       na_sales  eu_sales  jp_sales  other_sales  critic_score  user_score  \\\n",
      "0         41.36     28.96      3.77         8.45          76.0         8.0   \n",
      "1         29.08      3.58      6.81         0.77           NaN         NaN   \n",
      "2         15.68     12.76      3.79         3.29          82.0         8.3   \n",
      "3         15.61     10.93      3.28         2.95          80.0         8.0   \n",
      "4         11.27      8.89     10.22         1.00           NaN         NaN   \n",
      "...         ...       ...       ...          ...           ...         ...   \n",
      "16710      0.00      0.00      0.01         0.00           NaN         NaN   \n",
      "16711      0.00      0.01      0.00         0.00           NaN         NaN   \n",
      "16712      0.00      0.00      0.01         0.00           NaN         NaN   \n",
      "16713      0.01      0.00      0.00         0.00           NaN         NaN   \n",
      "16714      0.00      0.00      0.01         0.00           NaN         NaN   \n",
      "\n",
      "      rating  total_sales  \n",
      "0          E        82.54  \n",
      "1        NaN        40.24  \n",
      "2          E        35.52  \n",
      "3          E        32.77  \n",
      "4        NaN        31.38  \n",
      "...      ...          ...  \n",
      "16710    NaN         0.01  \n",
      "16711    NaN         0.01  \n",
      "16712    NaN         0.01  \n",
      "16713    NaN         0.01  \n",
      "16714    NaN         0.01  \n",
      "\n",
      "[16413 rows x 12 columns]\n"
     ]
    }
   ],
   "source": [
    "# Need to calculate the total sales (the sum of sales for all regions) for each game and put these values in a separate column within the table\n",
    "# First calculate the total sales\n",
    "DF['total_sales'] = DF['na_sales'] + DF['eu_sales'] + DF['jp_sales'] + DF['other_sales']\n",
    "\n",
    "# Group by 'name' and calculate the total sales per game and add back to main dataframe\n",
    "num_sales = DF.groupby('name')['total_sales'].sum().reset_index()\n",
    "\n",
    "# Verify the changes\n",
    "print(DF)"
   ]
  },
  {
   "cell_type": "code",
   "execution_count": 824,
   "metadata": {},
   "outputs": [
    {
     "name": "stdout",
     "output_type": "stream",
     "text": [
      "year_of_release\n",
      "1980       9\n",
      "1981      46\n",
      "1982      36\n",
      "1983      17\n",
      "1984      14\n",
      "1985      13\n",
      "1986      21\n",
      "1987      16\n",
      "1988      15\n",
      "1989      17\n",
      "1990      16\n",
      "1991      40\n",
      "1992      42\n",
      "1993      62\n",
      "1994     120\n",
      "1995     218\n",
      "1996     261\n",
      "1997     289\n",
      "1998     364\n",
      "1999     308\n",
      "2000     365\n",
      "2001     472\n",
      "2002     831\n",
      "2003     768\n",
      "2004     762\n",
      "2005     977\n",
      "2006     997\n",
      "2007    1182\n",
      "2008    1424\n",
      "2009    1420\n",
      "2010    1254\n",
      "2011    1136\n",
      "2012     661\n",
      "2013     537\n",
      "2014     584\n",
      "2015     602\n",
      "2016     501\n",
      "2017      16\n",
      "Name: name, dtype: int64\n"
     ]
    }
   ],
   "source": [
    "# How many games were released in different years\n",
    "yearly_game_sales = DF.groupby('year_of_release')['name'].count()\n",
    "print(yearly_game_sales)"
   ]
  },
  {
   "cell_type": "code",
   "execution_count": 825,
   "metadata": {},
   "outputs": [],
   "source": [
    "# It is important to note there is a clear pattern of growth from 1980 to 2009. This would correlate with the development of technology and new gaming systems being produced and distributed globally. \n",
    "# The sudden decrease in game sales starting in 2010 can be a reflection of global economic patterns due to the 2008 Global Financial Crisis. \n",
    "# The Global Financial Crisis started in the U.S. (correlates to the na_sales column) with the collapse of the housing bubble, and multiple financial institutions claiming bankruptcies which lead to government bailouts. \n",
    "# Europe (correlates to the eu_sales column) was significantly affected due to the strong financial ties with the U.S. which led to a recession in several European countries. \n",
    "# Japan's (correlates to the jp_sales column) economy was already in a long term stagnation period, but the Global Financial Crisis worsened issues like deflation and low economic growth. \n",
    "# The rapid decrease in sales could possibly be attributed to the financial recovery of the 2008 Global Financial Crisis. "
   ]
  },
  {
   "cell_type": "code",
   "execution_count": 826,
   "metadata": {},
   "outputs": [
    {
     "name": "stdout",
     "output_type": "stream",
     "text": [
      "platform\n",
      "GG         1\n",
      "PCFX       1\n",
      "TG16       2\n",
      "3DO        3\n",
      "WS         6\n",
      "SCD        6\n",
      "NG        12\n",
      "GEN       29\n",
      "DC        52\n",
      "GB        97\n",
      "NES       97\n",
      "2600     116\n",
      "WiiU     147\n",
      "SAT      172\n",
      "SNES     238\n",
      "XOne     247\n",
      "N64      314\n",
      "PS4      390\n",
      "PSV      428\n",
      "3DS      510\n",
      "GC       542\n",
      "XB       806\n",
      "GBA      811\n",
      "PC       949\n",
      "PS      1183\n",
      "PSP     1192\n",
      "X360    1231\n",
      "Wii     1284\n",
      "PS3     1303\n",
      "DS      2115\n",
      "PS2     2129\n",
      "Name: total_sales, dtype: int64\n"
     ]
    }
   ],
   "source": [
    "# How sales varied from platform to platform (sales are in USD million)\n",
    "game_platform_count = DF.groupby('platform')['total_sales'].count()\n",
    "print(game_platform_count.sort_values())"
   ]
  },
  {
   "cell_type": "code",
   "execution_count": 827,
   "metadata": {},
   "outputs": [
    {
     "data": {
      "image/png": "[encoded data removed]",
      "text/plain": [
       "<Figure size 640x480 with 1 Axes>"
      ]
     },
     "metadata": {},
     "output_type": "display_data"
    }
   ],
   "source": [
    "# Taking the top 5 platforms and creating a distribution based off total sales per year\n",
    "\n",
    "# Calculate total sales for each platform\n",
    "total_sales_per_platform = DF.groupby('platform')['total_sales'].sum()\n",
    "\n",
    "# Get the top 5 platforms by total sales\n",
    "top_5_platforms = total_sales_per_platform.nlargest(5).index\n",
    "\n",
    "# Filter the DF to include only the top 5 platforms\n",
    "DF_top5 = DF[DF['platform'].isin(top_5_platforms)]\n",
    "\n",
    "# Pivot filtered data to get platforms as columns\n",
    "platform_sales_top5 = DF_top5.pivot_table(index='year_of_release', columns='platform',values='total_sales',aggfunc='sum')\n",
    "\n",
    "# Plotting each platform\n",
    "ax = platform_sales_top5.plot(\n",
    "    kind='line',\n",
    "    xlim=[1999, 2018],  # Setting the range for years\n",
    "    ylim=[0, platform_sales_top5.max().max() + 100],  # Setting the range for sales in millions\n",
    "    grid=True,\n",
    "    linewidth=2, # Optional: line width for better visibility\n",
    ")\n",
    "\n",
    "plt.xticks(range(1999,2019,2), rotation=45)\n",
    "\n",
    "plt.title(\"Top 5 Gaming Platforms: Sales Distribution Over the Years\")\n",
    "plt.xlabel(\"Years\")\n",
    "plt.ylabel(\"Sales in USD Millions\")\n",
    "plt.legend(title='Platform', bbox_to_anchor=(1.05, 1), loc='upper left')\n",
    "plt.show()"
   ]
  },
  {
   "cell_type": "code",
   "execution_count": 828,
   "metadata": {},
   "outputs": [
    {
     "name": "stdout",
     "output_type": "stream",
     "text": [
      "Platforms missing in 2017 that were once popular: ['DS', 'DC', 'NG', '3DO', 'PCFX', 'N64', 'PS', 'XB', 'SNES', '3DS', 'PS2', 'GBA', 'WS', 'SCD', 'GG', 'SAT', 'TG16', 'GEN', '2600', 'GB', 'GC', 'NES', 'PSP']\n"
     ]
    }
   ],
   "source": [
    "# Find Platforms that used to be popular but now have zero sales\n",
    "\n",
    "# List all unique platforms in the dataset\n",
    "all_platforms = DF['platform'].unique()\n",
    "\n",
    "#Calculate total sales per platform per year\n",
    "platform_year_sales = DF.groupby(['platform','year_of_release'])['total_sales'].sum().reset_index()\n",
    "\n",
    "# Identify platforms that had sales before 2017\n",
    "popular_platforms_before_2017 = platform_year_sales[(platform_year_sales['year_of_release'] < 2017) & (platform_year_sales['total_sales'] > 0)]['platform'].unique()\n",
    "\n",
    "# Identify platforms with sales data in 2017\n",
    "platforms_in_2017 = platform_year_sales[platform_year_sales['year_of_release'] == 2017]['platform'].unique()\n",
    "\n",
    "# Platforms that had entries before 2017 but are missing in 2017\n",
    "popular_platforms_before_2017_set = set(popular_platforms_before_2017)\n",
    "platforms_in_2017_set = set(platforms_in_2017)\n",
    "missing_platforms_2017 = list(popular_platforms_before_2017_set - platforms_in_2017_set)\n",
    "print(\"Platforms missing in 2017 that were once popular:\", missing_platforms_2017)\n"
   ]
  },
  {
   "cell_type": "code",
   "execution_count": 829,
   "metadata": {},
   "outputs": [
    {
     "name": "stdout",
     "output_type": "stream",
     "text": [
      "   platform   min   max  lifespan_years\n",
      "4        DS  1985  2013              28\n",
      "14       PS  1994  2012              18\n",
      "5        GB  1988  2001              13\n",
      "15      PS2  1999  2012              13\n",
      "11      NES  1983  1994              11\n",
      "16      PSP  2004  2015              11\n",
      "19     SNES  1990  2000              10\n",
      "3        DC  1998  2008              10\n",
      "0      2600  1980  1989               9\n",
      "6       GBA  2000  2007               7\n",
      "22       XB  2001  2008               7\n",
      "10      N64  1996  2002               6\n",
      "7        GC  2001  2007               6\n",
      "17      SAT  1994  2000               6\n",
      "2       3DS  2011  2016               5\n",
      "8       GEN  1990  1994               4\n",
      "12       NG  1993  1996               3\n",
      "21       WS  1999  2001               2\n",
      "1       3DO  1994  1995               1\n",
      "18      SCD  1993  1994               1\n",
      "9        GG  1992  1992               0\n",
      "13     PCFX  1996  1996               0\n",
      "20     TG16  1995  1995               0\n"
     ]
    }
   ],
   "source": [
    "# Calculate lifespan for missing platforms\n",
    "\n",
    "missing_platform_lifespan = platform_year_sales[platform_year_sales['platform'].isin(missing_platforms_2017)]\n",
    "missing_platform_lifespan = missing_platform_lifespan.groupby('platform')['year_of_release'].agg(['min', 'max']).reset_index()\n",
    "missing_platform_lifespan['lifespan_years'] = missing_platform_lifespan['max'] - missing_platform_lifespan['min']\n",
    "\n",
    "# Print the lifespan of missing platforms\n",
    "print(missing_platform_lifespan.sort_values(by='lifespan_years', ascending=False))"
   ]
  },
  {
   "cell_type": "code",
   "execution_count": 830,
   "metadata": {},
   "outputs": [
    {
     "name": "stdout",
     "output_type": "stream",
     "text": [
      "   platform  first_appearance  last_appearance  lifespan\n",
      "0      2600              1980             1989         9\n",
      "1       3DO              1994             1995         1\n",
      "2       3DS              2011             2016         5\n",
      "3        DC              1998             2008        10\n",
      "4        DS              1985             2013        28\n",
      "5        GB              1988             2001        13\n",
      "6       GBA              2000             2007         7\n",
      "7        GC              2001             2007         6\n",
      "8       GEN              1990             1994         4\n",
      "9        GG              1992             1992         0\n",
      "10      N64              1996             2002         6\n",
      "11      NES              1983             1994        11\n",
      "12       NG              1993             1996         3\n",
      "13       PC              1985             2017        32\n",
      "14     PCFX              1996             1996         0\n",
      "15       PS              1994             2012        18\n",
      "16      PS2              1999             2012        13\n",
      "17      PS3              2006             2017        11\n",
      "18      PS4              2013             2017         4\n",
      "19      PSP              2004             2015        11\n",
      "20      PSV              2011             2017         6\n",
      "21      SAT              1994             2000         6\n",
      "22      SCD              1993             1994         1\n",
      "23     SNES              1990             2000        10\n",
      "24     TG16              1995             1995         0\n",
      "25       WS              1999             2001         2\n",
      "26      Wii              2006             2017        11\n",
      "27     WiiU              2012             2017         5\n",
      "28     X360              2005             2017        12\n",
      "29       XB              2001             2008         7\n",
      "30     XOne              2013             2017         4\n"
     ]
    }
   ],
   "source": [
    "# Now find how long it generally takes for new platforms to appear and old ones to fade\n",
    "\n",
    "# Calculate the first and last apearance of each platform\n",
    "platform_lifespan = DF.groupby('platform')['year_of_release'].agg(['min','max']).reset_index()\n",
    "platform_lifespan.columns = ['platform', 'first_appearance', 'last_appearance']\n",
    "platform_lifespan['lifespan'] = platform_lifespan['last_appearance'] - platform_lifespan['first_appearance']\n",
    "\n",
    "# Check calculations\n",
    "print(platform_lifespan)"
   ]
  },
  {
   "cell_type": "code",
   "execution_count": 831,
   "metadata": {},
   "outputs": [
    {
     "name": "stdout",
     "output_type": "stream",
     "text": [
      "   platform  first_appearance  introduction_interval\n",
      "0      2600              1980                      0\n",
      "11      NES              1983                      3\n",
      "4        DS              1985                      2\n",
      "13       PC              1985                      0\n",
      "5        GB              1988                      3\n",
      "23     SNES              1990                      2\n",
      "8       GEN              1990                      0\n",
      "9        GG              1992                      2\n",
      "22      SCD              1993                      1\n",
      "12       NG              1993                      0\n",
      "21      SAT              1994                      1\n",
      "15       PS              1994                      0\n",
      "1       3DO              1994                      0\n",
      "24     TG16              1995                      1\n",
      "14     PCFX              1996                      1\n",
      "10      N64              1996                      0\n",
      "3        DC              1998                      2\n",
      "25       WS              1999                      1\n",
      "16      PS2              1999                      0\n",
      "6       GBA              2000                      1\n",
      "7        GC              2001                      1\n",
      "29       XB              2001                      0\n",
      "19      PSP              2004                      3\n",
      "28     X360              2005                      1\n",
      "17      PS3              2006                      1\n",
      "26      Wii              2006                      0\n",
      "2       3DS              2011                      5\n",
      "20      PSV              2011                      0\n",
      "27     WiiU              2012                      1\n",
      "18      PS4              2013                      1\n",
      "30     XOne              2013                      0\n"
     ]
    }
   ],
   "source": [
    "# Find the year when each platform first appeared\n",
    "new_platforms = platform_lifespan[['platform', 'first_appearance']].sort_values(by='first_appearance')\n",
    "\n",
    "# Calculate the intervals between new platform introductions\n",
    "new_platforms['introduction_interval'] = new_platforms['first_appearance'].diff().fillna(0).astype(int)\n",
    "\n",
    "# Check calculations\n",
    "print(new_platforms)"
   ]
  },
  {
   "cell_type": "code",
   "execution_count": 832,
   "metadata": {},
   "outputs": [
    {
     "name": "stdout",
     "output_type": "stream",
     "text": [
      "1\n"
     ]
    }
   ],
   "source": [
    "# Find the average length of time for new platforms to appear\n",
    "average_interval = new_platforms['introduction_interval'].mean().astype(int)\n",
    "\n",
    "# Display the average length of time for new platforms to appear\n",
    "print(average_interval)"
   ]
  },
  {
   "cell_type": "code",
   "execution_count": 833,
   "metadata": {},
   "outputs": [
    {
     "name": "stdout",
     "output_type": "stream",
     "text": [
      "1.2092830898502835\n",
      "The average length of time for new platforms to appear, and old ones to fade out, is about 1-2 years.\n"
     ]
    }
   ],
   "source": [
    "# Take into consideration the standard deviation\n",
    "average_interval_std = new_platforms['introduction_interval'].std()\n",
    "print(average_interval_std)\n",
    "\n",
    "print(f\"The average length of time for new platforms to appear, and old ones to fade out, is about 1-2 years.\")"
   ]
  },
  {
   "cell_type": "code",
   "execution_count": 834,
   "metadata": {},
   "outputs": [
    {
     "name": "stdout",
     "output_type": "stream",
     "text": [
      "                                                    name platform  \\\n",
      "14                                    Kinect Adventures!     X360   \n",
      "10791                         iCarly 2: iJoin The Click!      Wii   \n",
      "10796                                Dora's Cooking Club       DS   \n",
      "10811  Tennis no Oji-Sama: Motto Gakuensai no Ouji-Sa...       DS   \n",
      "4183                                          FlingSmash      Wii   \n",
      "...                                                  ...      ...   \n",
      "16585                      Farming 2017 - The Simulation      PS4   \n",
      "11571                           Earth Defense Force 2017     X360   \n",
      "8009                                     Just Dance 2017      Wii   \n",
      "14294                                    Just Dance 2017      PS4   \n",
      "9465                           Pro Evolution Soccer 2017      PS3   \n",
      "\n",
      "       year_of_release       genre  na_sales  eu_sales  jp_sales  other_sales  \\\n",
      "14                2010        Misc     15.00      4.89      0.24         1.69   \n",
      "10791             2010   Adventure      0.08      0.01      0.00         0.01   \n",
      "10796             2010        Misc      0.08      0.01      0.00         0.01   \n",
      "10811             2010      Sports      0.00      0.00      0.10         0.00   \n",
      "4183              2010      Action      0.37      0.01      0.07         0.02   \n",
      "...                ...         ...       ...       ...       ...          ...   \n",
      "16585             2017  Simulation      0.00      0.01      0.00         0.00   \n",
      "11571             2017      Action      0.04      0.00      0.03         0.00   \n",
      "8009              2017        Misc      0.06      0.11      0.00         0.01   \n",
      "14294             2017        Misc      0.02      0.00      0.00         0.01   \n",
      "9465              2017      Sports      0.01      0.05      0.06         0.01   \n",
      "\n",
      "       critic_score  user_score rating  total_sales  \n",
      "14             61.0         6.3      E        21.82  \n",
      "10791           NaN         9.0      E         0.10  \n",
      "10796           NaN         NaN    NaN         0.10  \n",
      "10811           NaN         NaN    NaN         0.10  \n",
      "4183           48.0         6.8      E         0.47  \n",
      "...             ...         ...    ...          ...  \n",
      "16585           NaN         NaN    NaN         0.01  \n",
      "11571          69.0         7.7      T         0.07  \n",
      "8009            NaN         NaN   E10+         0.18  \n",
      "14294          73.0         NaN   E10+         0.03  \n",
      "9465            NaN         7.2      E         0.13  \n",
      "\n",
      "[5291 rows x 12 columns]\n"
     ]
    }
   ],
   "source": [
    "# Moving forward we should only use data from 2010-2017, this is the time period where the most growth for sales and development of different platforms and games saw a surge of growth.\n",
    "\n",
    "# Create the dataframe we will be focusing on moving forward\n",
    "DF_new = DF[(DF['year_of_release'] >= 2010) & (DF['year_of_release']<= 2017)]\n",
    "\n",
    "# Put the new dataframe in chronological order based on the year_of_release column\n",
    "DF_new_sorted = DF_new.sort_values(by='year_of_release', ascending=True)\n",
    "\n",
    "# Display new dataframe\n",
    "print(DF_new_sorted)"
   ]
  },
  {
   "cell_type": "code",
   "execution_count": 835,
   "metadata": {},
   "outputs": [
    {
     "name": "stdout",
     "output_type": "stream",
     "text": [
      "   platform  total_sales\n",
      "5       PS3       591.26\n",
      "11     X360       551.99\n",
      "6       PS4       312.32\n",
      "0       3DS       257.70\n",
      "9       Wii       228.08\n",
      "12     XOne       159.32\n",
      "1        DS       124.47\n",
      "2        PC       120.47\n",
      "10     WiiU        82.19\n",
      "7       PSP        65.48\n",
      "8       PSV        53.46\n",
      "4       PS2         8.72\n",
      "3        PS         0.37\n"
     ]
    }
   ],
   "source": [
    "# Find which platforms are leading in sales within new dataframe\n",
    "leading_platforms = DF_new_sorted.groupby(['platform'])['total_sales'].sum().reset_index()\n",
    "\n",
    "# Display data for platform sales within the new dataframe\n",
    "print(leading_platforms.sort_values(by='total_sales', ascending=False))\n",
    "\n",
    "# The top 5 leading platforms in sales are PS3, X360, PS4, 3DS, Wii, XOne, and DS"
   ]
  },
  {
   "cell_type": "code",
   "execution_count": 836,
   "metadata": {},
   "outputs": [
    {
     "name": "stdout",
     "output_type": "stream",
     "text": [
      "   platform  year_of_release  total_sales\n",
      "0       3DS             2011        63.18\n",
      "1       3DS             2012        51.12\n",
      "2       3DS             2013        56.56\n",
      "3       3DS             2014        43.95\n",
      "4       3DS             2015        27.75\n",
      "..      ...              ...          ...\n",
      "70     XOne             2013        19.12\n",
      "71     XOne             2014        53.25\n",
      "72     XOne             2015        60.38\n",
      "73     XOne             2016        26.50\n",
      "74     XOne             2017         0.07\n",
      "\n",
      "[75 rows x 3 columns]\n"
     ]
    }
   ],
   "source": [
    "# Which platforms are growing and which are shrinking\n",
    "\n",
    "# Calculate the total annual sales for each platform\n",
    "annual_platform_sales = DF_new_sorted.groupby(['platform','year_of_release'])['total_sales'].sum().reset_index()\n",
    "\n",
    "# Display calculations\n",
    "print(annual_platform_sales)"
   ]
  },
  {
   "cell_type": "code",
   "execution_count": 837,
   "metadata": {},
   "outputs": [
    {
     "name": "stdout",
     "output_type": "stream",
     "text": [
      "   platform  average_growth\n",
      "0       PS4        0.356500\n",
      "1      XOne        0.090117\n",
      "2       PSV        0.071978\n",
      "3        PS        0.000000\n",
      "4       3DS       -0.188405\n",
      "5       PS2       -0.255914\n",
      "6        PC       -0.278380\n",
      "7        DS       -0.304822\n",
      "8      WiiU       -0.332502\n",
      "9       PS3       -0.443098\n",
      "10      PSP       -0.459409\n",
      "11     X360       -0.514236\n",
      "12      Wii       -0.550118\n"
     ]
    }
   ],
   "source": [
    "# Pivot the data to see sales trends over time\n",
    "sales_trend_pivot = annual_platform_sales.pivot(index='year_of_release', columns='platform', values='total_sales')\n",
    "\n",
    "# Calculate year-over-year growth for each platform\n",
    "sales_trend = sales_trend_pivot.pct_change()\n",
    "\n",
    "# Determine if platforms are growing or shrinking based on recent years performance\n",
    "platform_trend = sales_trend.mean().sort_values(ascending=False).reset_index()\n",
    "platform_trend.columns = ['platform', 'average_growth']\n",
    "\n",
    "# Display calculation\n",
    "print(platform_trend)\n",
    "# From this data the top growing platforms for the designated time period are PS4, XOne, PSV, and PS\n",
    "# From the data the top shrinking platforms for the designated time period are Wii, X360, PSP, PS3, WiiU, DS, PC"
   ]
  },
  {
   "cell_type": "code",
   "execution_count": 846,
   "metadata": {},
   "outputs": [
    {
     "data": {
      "image/png": "[encoded data removed]",
      "text/plain": [
       "<Figure size 1000x800 with 1 Axes>"
      ]
     },
     "metadata": {},
     "output_type": "display_data"
    }
   ],
   "source": [
    "# Taking the global sales of all games from the new dataframe, create a boxplot\n",
    "\n",
    "# Calculate the global sales for each platform\n",
    "global_platform_sales = DF_new_sorted.groupby(['platform'])['total_sales'].sum().reset_index()\n",
    "\n",
    "DF_new_sorted['log_total_sales'] = np.log1p(DF_new_sorted['total_sales'])\n",
    "\n",
    "# Create a boxplot\n",
    "plt.figure(figsize=(10, 8))\n",
    "plt.boxplot([DF_new_sorted[DF_new_sorted['platform'] == platform]['total_sales'] for platform in DF_new_sorted['platform'].unique()],\n",
    "            labels=DF_new_sorted['platform'].unique())\n",
    "plt.title(\"Log-Scaled Global Sales of Games by Platform\")\n",
    "plt.xlabel(\"Platform\")\n",
    "plt.ylabel(\"Log of Global Sales (in millions)\")\n",
    "plt.grid(True)\n",
    "plt.ylim(0, 2.5)\n",
    "plt.xticks(rotation=45, ha='right')\n",
    "plt.show()"
   ]
  },
  {
   "cell_type": "code",
   "execution_count": null,
   "metadata": {},
   "outputs": [],
   "source": [
    "# From the boxplot you can see significant differences in sales, which also helps to visualize the platforms that have sales that are continuing to grow and the ones that are shrinking. Even with the outliers, the boxplot stays true to the growth and shrinking values found previously. "
   ]
  },
  {
   "cell_type": "code",
   "execution_count": 850,
   "metadata": {},
   "outputs": [
    {
     "name": "stdout",
     "output_type": "stream",
     "text": [
      "   platform  total_sales\n",
      "0       3DS       257.70\n",
      "1        DS       124.47\n",
      "2        PC       120.47\n",
      "3        PS         0.37\n",
      "4       PS2         8.72\n",
      "5       PS3       591.26\n",
      "6       PS4       312.32\n",
      "7       PSP        65.48\n",
      "8       PSV        53.46\n",
      "9       Wii       228.08\n",
      "10     WiiU        82.19\n",
      "11     X360       551.99\n",
      "12     XOne       159.32\n"
     ]
    }
   ],
   "source": [
    "# Take into consideration the average sales (USD Millions) on various platforms\n",
    "\n",
    "# Find the average global sales for individual platforms\n",
    "avg_global_platform_sales = global_platform_sales.groupby(['platform'])['total_sales'].mean().reset_index()\n",
    "print(avg_global_platform_sales)"
   ]
  },
  {
   "cell_type": "code",
   "execution_count": null,
   "metadata": {},
   "outputs": [],
   "source": [
    "# From previous analysis the data showing the top growing platforms for the designated time period were PS4, XOne, PSV,and PS\n",
    "# It does need to be taken into consideration the time in which the platform was released and how long between release and the introduction of a new platform\n",
    "# The PS4 and the XOne were both released in 2013 which would directly cause competition of sales between the two systems, they are both newer platforms for the designated time period that it would make sense that their average sales are not the highest \n",
    "# The PSV was released in 2011, but two years later the PS4 and XOne were released. This is a direct explanation as to why the average sales for this platform are significantly lower for one that showed growth as opposed to shrinkage in sales\n",
    "# The PS was released in 1994, but so were two other platforms that are not displayed in this data set; the SAT and 3DO which caused direct competition between these three platforms. Not to mention that in 1995, one year later, a new platform was released, TG16. "
   ]
  },
  {
   "cell_type": "code",
   "execution_count": null,
   "metadata": {},
   "outputs": [],
   "source": [
    "# From previous analysis the data showing the top shrinking platforms for the designated time period were Wii, X360, PSP, PS3, WiiU, DS, and PC\n",
    "# It would make sense that the average golbal sales for these platforms would be higher due to the length of time they were on the market before the release of a new platform.\n",
    "# In 1985, both the DS and PC were released and show almost identical average sales (the DS only leading by $4 USD Millions). This platform was the only system out until 1988, causing them to be the only two systems games were, at the time, being produced for. \n",
    "# From 1988-2001, a new platform was being released every year back to back which would explain why those individual platforms are not on this data set, there was constant competition and no room for sole focus and development of games for just one system, companies were trying to keep up with popularity and demand.\n",
    "# Then in 2004, three years after the newest platform (XB) was released, a brand new system hit the market; the PSP (this system allowed gamers to take their games with them in a portable hand held device). The convenience and easy access of this device would explain the large amount of sales in just one year. \n",
    "# To keep up with competition, X360 came out in 2005. Both systems started polarizing the market with games specifically only accessible on their systems, this created a divide in preference within the gaming world. For Xbox, games like Halo, Gears of War, and Mass Effect caused strong allegiance for this particular population of gamers. \n",
    "# In 2006, two new systems were released to keep up with competition and demand; the Wii, and the PS3. Wii was a system that was unlike any other on the market, it involved direct physical interaction from the gamer and the game, this new type of system and concept would explain the huge average sales. To keep up with the competition between Xbox and Playstation, Playstation released the PS3 along with system specific games like Uncharted, The Last of Us, and Gran Turismo 5. All of which were tremendous successes and created a huge following for these specific games. This would explain the huge average sales for this particular gaming system. \n",
    "# Until 2011, the PS3 and Wii were the only newer gaming platforms on the market, this is a five year time span for sales to grow, which is exactly what it did. \n",
    "# In 2011, the PSV was released, and was met with an immediately strong commercial success. \n",
    "# In 2012, the WiiU was released, it had great commercial success for multiple reasons, it was a portable gaming system that had access to all Wii games with a large amount of nostalgic games like Mario Kart 8, Super Mario 3D World, Super Smash Bros, and The Legend of Zelda: The Wind Waker HD. It was also the only new platform on the market until 2013, allowing it to accumulate a large amount of sales in that time period. "
   ]
  }
 ],
 "metadata": {
  "kernelspec": {
   "display_name": "Python 3",
   "language": "python",
   "name": "python3"
  },
  "language_info": {
   "codemirror_mode": {
    "name": "ipython",
    "version": 3
   },
   "file_extension": ".py",
   "mimetype": "text/x-python",
   "name": "python",
   "nbconvert_exporter": "python",
   "pygments_lexer": "ipython3",
   "version": "3.11.7"
  }
 },
 "nbformat": 4,
 "nbformat_minor": 2
}
