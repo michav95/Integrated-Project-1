{
 "cells": [
  {
   "cell_type": "code",
   "execution_count": 2,
   "metadata": {},
   "outputs": [],
   "source": [
    "# Import packages needed for analysis of data\n",
    "import pandas as pd\n",
    "import plotly.express as px"
   ]
  },
  {
   "cell_type": "code",
   "execution_count": 4,
   "metadata": {},
   "outputs": [
    {
     "name": "stdout",
     "output_type": "stream",
     "text": [
      "<class 'pandas.core.frame.DataFrame'>\n",
      "RangeIndex: 16715 entries, 0 to 16714\n",
      "Data columns (total 11 columns):\n",
      " #   Column           Non-Null Count  Dtype  \n",
      "---  ------           --------------  -----  \n",
      " 0   Name             16713 non-null  object \n",
      " 1   Platform         16715 non-null  object \n",
      " 2   Year_of_Release  16446 non-null  float64\n",
      " 3   Genre            16713 non-null  object \n",
      " 4   NA_sales         16715 non-null  float64\n",
      " 5   EU_sales         16715 non-null  float64\n",
      " 6   JP_sales         16715 non-null  float64\n",
      " 7   Other_sales      16715 non-null  float64\n",
      " 8   Critic_Score     8137 non-null   float64\n",
      " 9   User_Score       10014 non-null  object \n",
      " 10  Rating           9949 non-null   object \n",
      "dtypes: float64(6), object(5)\n",
      "memory usage: 1.4+ MB\n",
      "None\n"
     ]
    }
   ],
   "source": [
    "# Print info of DataFrame to get all attributes of table at once\n",
    "DF = pd.read_csv(\"dataset.csv\")\n",
    "print(DF.info())"
   ]
  },
  {
   "cell_type": "code",
   "execution_count": 9,
   "metadata": {},
   "outputs": [
    {
     "name": "stdout",
     "output_type": "stream",
     "text": [
      "<class 'pandas.core.frame.DataFrame'>\n",
      "RangeIndex: 16715 entries, 0 to 16714\n",
      "Data columns (total 11 columns):\n",
      " #   Column           Non-Null Count  Dtype  \n",
      "---  ------           --------------  -----  \n",
      " 0   name             16713 non-null  object \n",
      " 1   platform         16715 non-null  object \n",
      " 2   year_of_release  16446 non-null  float64\n",
      " 3   genre            16713 non-null  object \n",
      " 4   na_sales         16715 non-null  float64\n",
      " 5   eu_sales         16715 non-null  float64\n",
      " 6   jp_sales         16715 non-null  float64\n",
      " 7   other_sales      16715 non-null  float64\n",
      " 8   critic_score     8137 non-null   float64\n",
      " 9   user_score       10014 non-null  object \n",
      " 10  rating           9949 non-null   object \n",
      "dtypes: float64(6), object(5)\n",
      "memory usage: 1.4+ MB\n",
      "None\n"
     ]
    }
   ],
   "source": [
    "# Rename column names to contain only lowercase letters\n",
    "DF = DF.rename(\n",
    "    columns={\n",
    "        'Name': 'name',\n",
    "        'Platform': 'platform',\n",
    "        'Year_of_Release': 'year_of_release',\n",
    "        'Genre': 'genre',\n",
    "        'NA_sales': 'na_sales',\n",
    "        'EU_sales': 'eu_sales',\n",
    "        'JP_sales': 'jp_sales',\n",
    "        'Other_sales': 'other_sales',\n",
    "        'Critic_Score': 'critic_score',\n",
    "        'User_Score': 'user_score',\n",
    "        'Rating': 'rating'\n",
    "    }\n",
    ")\n",
    "\n",
    "print(DF.info())\n"
   ]
  },
  {
   "cell_type": "code",
   "execution_count": 18,
   "metadata": {},
   "outputs": [
    {
     "name": "stdout",
     "output_type": "stream",
     "text": [
      "<class 'pandas.core.frame.DataFrame'>\n",
      "RangeIndex: 16715 entries, 0 to 16714\n",
      "Data columns (total 11 columns):\n",
      " #   Column           Non-Null Count  Dtype  \n",
      "---  ------           --------------  -----  \n",
      " 0   name             16713 non-null  object \n",
      " 1   platform         16715 non-null  object \n",
      " 2   year_of_release  16446 non-null  float64\n",
      " 3   genre            16713 non-null  object \n",
      " 4   na_sales         16715 non-null  float64\n",
      " 5   eu_sales         16715 non-null  float64\n",
      " 6   jp_sales         16715 non-null  float64\n",
      " 7   other_sales      16715 non-null  float64\n",
      " 8   critic_score     8137 non-null   float64\n",
      " 9   user_score       7590 non-null   float64\n",
      " 10  rating           0 non-null      float64\n",
      "dtypes: float64(8), object(3)\n",
      "memory usage: 1.4+ MB\n",
      "None\n"
     ]
    }
   ],
   "source": [
    "# Change the 'rating' and 'user_score' columns from object to float to be able to conduct mathematical equations (ex: mean score, min score, max score, std score)\n",
    "DF['rating'] = pd.to_numeric(DF['rating'], errors='coerce')\n",
    "DF['user_score'] = pd.to_numeric(DF['user_score'], errors='coerce')\n",
    "\n",
    "# Verify the change\n",
    "print(DF.info())\n"
   ]
  },
  {
   "cell_type": "code",
   "execution_count": 19,
   "metadata": {},
   "outputs": [
    {
     "name": "stdout",
     "output_type": "stream",
     "text": [
      "                       name platform  year_of_release         genre  na_sales  \\\n",
      "0                Wii Sports      Wii           2006.0        Sports     41.36   \n",
      "1         Super Mario Bros.      NES           1985.0      Platform     29.08   \n",
      "2            Mario Kart Wii      Wii           2008.0        Racing     15.68   \n",
      "3         Wii Sports Resort      Wii           2009.0        Sports     15.61   \n",
      "4  Pokemon Red/Pokemon Blue       GB           1996.0  Role-Playing     11.27   \n",
      "\n",
      "   eu_sales  jp_sales  other_sales  critic_score  user_score  rating  \n",
      "0     28.96      3.77         8.45          76.0         8.0     NaN  \n",
      "1      3.58      6.81         0.77           NaN         NaN     NaN  \n",
      "2     12.76      3.79         3.29          82.0         8.3     NaN  \n",
      "3     10.93      3.28         2.95          80.0         8.0     NaN  \n",
      "4      8.89     10.22         1.00           NaN         NaN     NaN  \n"
     ]
    }
   ],
   "source": [
    "print(DF.head(5))"
   ]
  },
  {
   "cell_type": "code",
   "execution_count": 20,
   "metadata": {},
   "outputs": [
    {
     "name": "stdout",
     "output_type": "stream",
     "text": [
      "                                name platform  year_of_release       genre  \\\n",
      "16710  Samurai Warriors: Sanada Maru      PS3           2016.0      Action   \n",
      "16711               LMA Manager 2007     X360           2006.0      Sports   \n",
      "16712        Haitaka no Psychedelica      PSV           2016.0   Adventure   \n",
      "16713               Spirits & Spells      GBA           2003.0    Platform   \n",
      "16714            Winning Post 8 2016      PSV           2016.0  Simulation   \n",
      "\n",
      "       na_sales  eu_sales  jp_sales  other_sales  critic_score  user_score  \\\n",
      "16710      0.00      0.00      0.01          0.0           NaN         NaN   \n",
      "16711      0.00      0.01      0.00          0.0           NaN         NaN   \n",
      "16712      0.00      0.00      0.01          0.0           NaN         NaN   \n",
      "16713      0.01      0.00      0.00          0.0           NaN         NaN   \n",
      "16714      0.00      0.00      0.01          0.0           NaN         NaN   \n",
      "\n",
      "       rating  \n",
      "16710     NaN  \n",
      "16711     NaN  \n",
      "16712     NaN  \n",
      "16713     NaN  \n",
      "16714     NaN  \n"
     ]
    }
   ],
   "source": [
    "print(DF.tail(5))"
   ]
  }
 ],
 "metadata": {
  "kernelspec": {
   "display_name": "Python 3",
   "language": "python",
   "name": "python3"
  },
  "language_info": {
   "codemirror_mode": {
    "name": "ipython",
    "version": 3
   },
   "file_extension": ".py",
   "mimetype": "text/x-python",
   "name": "python",
   "nbconvert_exporter": "python",
   "pygments_lexer": "ipython3",
   "version": "3.11.7"
  }
 },
 "nbformat": 4,
 "nbformat_minor": 2
}
