{
 "cells": [
  {
   "cell_type": "code",
   "execution_count": 746,
   "metadata": {},
   "outputs": [],
   "source": [
    "# Video games are sold all over the world which produces a large amount of data on user and expert reviews, genres, platforms (e.g. Xbox or PlayStation), and historical data on game sales. The goal of this project is to identify patterns that determine whether a game succeeds or not. This will allow identification of potential big winners and which games to plan advertising campaigns for. "
   ]
  },
  {
   "cell_type": "code",
   "execution_count": 747,
   "metadata": {},
   "outputs": [],
   "source": [
    "# Import packages needed for analysis of data\n",
    "import pandas as pd\n",
    "import plotly.express as px\n",
    "import re\n",
    "from matplotlib import pyplot as plt \n",
    "import numpy as np "
   ]
  },
  {
   "cell_type": "code",
   "execution_count": null,
   "metadata": {},
   "outputs": [],
   "source": [
    "# Print info of DataFrame to get all attributes of table at once\n",
    "DF = pd.read_csv(\"dataset.csv\")\n",
    "print(DF.info())"
   ]
  },
  {
   "cell_type": "code",
   "execution_count": null,
   "metadata": {},
   "outputs": [],
   "source": [
    "# Rename column names to contain only lowercase letters\n",
    "DF = DF.rename(\n",
    "    columns={\n",
    "        'Name': 'name',\n",
    "        'Platform': 'platform',\n",
    "        'Year_of_Release': 'year_of_release',\n",
    "        'Genre': 'genre',\n",
    "        'NA_sales': 'na_sales',\n",
    "        'EU_sales': 'eu_sales',\n",
    "        'JP_sales': 'jp_sales',\n",
    "        'Other_sales': 'other_sales',\n",
    "        'Critic_Score': 'critic_score',\n",
    "        'User_Score': 'user_score',\n",
    "        'Rating': 'rating'\n",
    "    }\n",
    ")\n",
    "\n",
    "# Verify the change\n",
    "print(DF.info())\n"
   ]
  },
  {
   "cell_type": "code",
   "execution_count": null,
   "metadata": {},
   "outputs": [],
   "source": [
    "# Change the 'user_score' column from object to float to be able to conduct mathematical equations (ex: mean score, min score, max score, std score)\n",
    "DF['user_score'] = pd.to_numeric(DF['user_score'], errors='coerce')\n",
    "\n",
    "# Verify the change\n",
    "print(DF.info())\n"
   ]
  },
  {
   "cell_type": "code",
   "execution_count": null,
   "metadata": {},
   "outputs": [],
   "source": [
    "# Due to such a large dataset, it is not practical to display all the rows, thus we will print the first and last 5 rows.\n",
    "# Print the first 5 rows for a small sample of data to give a quick snapshot of the structure of the dataset.\n",
    "print(DF.head(5))"
   ]
  },
  {
   "cell_type": "code",
   "execution_count": null,
   "metadata": {},
   "outputs": [],
   "source": [
    "# Print last 5 rows for another sample of data to check if there are any special cases, outliers, or null values that weren't visible at the beginning.\n",
    "print(DF.tail(5))"
   ]
  },
  {
   "cell_type": "code",
   "execution_count": null,
   "metadata": {},
   "outputs": [],
   "source": [
    "# Check for any duplicates\n",
    "print(DF.duplicated().sum())"
   ]
  },
  {
   "cell_type": "code",
   "execution_count": null,
   "metadata": {},
   "outputs": [],
   "source": [
    "# Find the total of missing values for each column\n",
    "print(DF.isna().sum())"
   ]
  },
  {
   "cell_type": "code",
   "execution_count": null,
   "metadata": {},
   "outputs": [],
   "source": [
    "# Make sure there are no TBD values for any of the columns before starting to assess missing values individually\n",
    "value = DF.get('TBD', 'default_value')  # Returns 'default_value' if 'TBD' does not exist\n",
    "print(value)"
   ]
  },
  {
   "cell_type": "code",
   "execution_count": null,
   "metadata": {},
   "outputs": [],
   "source": [
    "# Check to see if the missing values for the games with no names is significant enough to keep in the dataset\n",
    "missing_specific_name = DF[DF['name'].isnull()]\n",
    "print(missing_specific_name)\n",
    "\n",
    "# Because there are sales for the games with no names, will not drop them from the data set so as to have a more accurate analysis later on\n",
    "# The names could be missing, again, due to human error with information entry and source limitations if the data was collected from multiple platforms and databases"
   ]
  },
  {
   "cell_type": "code",
   "execution_count": null,
   "metadata": {},
   "outputs": [],
   "source": [
    "# Will change NaN to N/A for the 2 games with no names to maintain consistency and good practice\n",
    "DF['name'] = DF['name'].fillna('N/A')\n",
    "\n",
    "# Verify the changes\n",
    "print(DF.isnull().sum())"
   ]
  },
  {
   "cell_type": "code",
   "execution_count": null,
   "metadata": {},
   "outputs": [],
   "source": [
    "# Check to see if the year might be in the name of the game, if so we can use that information in a loop to place it in the year_of_release column\n",
    "missing_specific_year= DF[DF['year_of_release'].isnull()]\n",
    "print(missing_specific_year)"
   ]
  },
  {
   "cell_type": "code",
   "execution_count": null,
   "metadata": {},
   "outputs": [],
   "source": [
    "# We now know there are a few games that have the year in the game title\n",
    "\n",
    "# Loop through each row to extract year and update the year_of_release column\n",
    "for index, row in DF.iterrows():\n",
    "    game_name = row['name']\n",
    "    if isinstance(game_name, str):  # Check if game_name is a string\n",
    "        match = re.search(r'\\b(\\d{4})\\b', game_name)\n",
    "        if match:\n",
    "            DF.at[index, 'year_of_release'] = str(match.group(1))  # Convert to string\n",
    "\n",
    "# Display the DataFrame\n",
    "print(DF)"
   ]
  },
  {
   "cell_type": "code",
   "execution_count": null,
   "metadata": {},
   "outputs": [],
   "source": [
    "# Check to see how many missing values we now have in the year_of_release column\n",
    "print(DF.isnull().sum())"
   ]
  },
  {
   "cell_type": "code",
   "execution_count": null,
   "metadata": {},
   "outputs": [],
   "source": [
    "# Drop rows where 'year_of_release' is missing (NaN)\n",
    "DF = DF.dropna(subset=['year_of_release'])\n",
    "\n",
    "# Convert the 'year_of_release' column to numeric type (int)\n",
    "DF['year_of_release'] = DF['year_of_release'].astype(int)\n",
    "\n",
    "# Filter rows to keep only those between 1980 and 2017\n",
    "DF = DF[(DF['year_of_release'] >= 1980) & (DF['year_of_release']<= 2017)]\n",
    "\n",
    "# Verify the changes\n",
    "print(DF.isnull().sum())"
   ]
  },
  {
   "cell_type": "code",
   "execution_count": null,
   "metadata": {},
   "outputs": [],
   "source": [
    "# Need to calculate the total sales (the sum of sales for all regions) for each game and put these values in a separate column within the table\n",
    "# First calculate the total sales\n",
    "DF['total_sales'] = DF['na_sales'] + DF['eu_sales'] + DF['jp_sales'] + DF['other_sales']\n",
    "\n",
    "# Group by 'name' and calculate the total sales per game and add back to main dataframe\n",
    "num_sales = DF.groupby('name')['total_sales'].sum().reset_index()\n",
    "\n",
    "# Verify the changes\n",
    "print(DF)"
   ]
  },
  {
   "cell_type": "code",
   "execution_count": null,
   "metadata": {},
   "outputs": [],
   "source": [
    "# How many games were released in different years\n",
    "yearly_game_sales = DF.groupby('year_of_release')['name'].count()\n",
    "print(yearly_game_sales)"
   ]
  },
  {
   "cell_type": "code",
   "execution_count": 764,
   "metadata": {},
   "outputs": [],
   "source": [
    "# It is important to note there is a clear pattern of growth from 1980 to 2009. This would correlate with the development of technology and new gaming systems being produced and distributed globally. \n",
    "# The sudden decrease in game sales starting in 2010 can be a reflection of global economic patterns due to the 2008 Global Financial Crisis. \n",
    "# The Global Financial Crisis started in the U.S. (correlates to the na_sales column) with the collapse of the housing bubble, and multiple financial institutions claiming bankruptcies which lead to government bailouts. \n",
    "# Europe (correlates to the eu_sales column) was significantly affected due to the strong financial ties with the U.S. which led to a recession in several European countries. \n",
    "# Japan's (correlates to the jp_sales column) economy was already in a long term stagnation period, but the Global Financial Crisis worsened issues like deflation and low economic growth. \n",
    "# The rapid decrease in sales could possibly be attributed to the financial recovery of the 2008 Global Financial Crisis. "
   ]
  },
  {
   "cell_type": "code",
   "execution_count": null,
   "metadata": {},
   "outputs": [],
   "source": [
    "# How sales varied from platform to platform (sales are in USD million)\n",
    "game_platform_count = DF.groupby('platform')['total_sales'].count()\n",
    "print(game_platform_count.sort_values())"
   ]
  },
  {
   "cell_type": "code",
   "execution_count": null,
   "metadata": {},
   "outputs": [],
   "source": [
    "# Taking the top 5 platforms and creating a distribution based off total sales per year\n",
    "\n",
    "# Calculate total sales for each platform\n",
    "total_sales_per_platform = DF.groupby('platform')['total_sales'].sum()\n",
    "\n",
    "# Get the top 5 platforms by total sales\n",
    "top_5_platforms = total_sales_per_platform.nlargest(5).index\n",
    "\n",
    "# Filter the DF to include only the top 5 platforms\n",
    "DF_top5 = DF[DF['platform'].isin(top_5_platforms)]\n",
    "\n",
    "# Pivot filtered data to get platforms as columns\n",
    "platform_sales_top5 = DF_top5.pivot_table(index='year_of_release', columns='platform',values='total_sales',aggfunc='sum')\n",
    "\n",
    "# Plotting each platform\n",
    "ax = platform_sales_top5.plot(\n",
    "    kind='line',\n",
    "    xlim=[1999, 2018],  # Setting the range for years\n",
    "    ylim=[0, platform_sales_top5.max().max() + 100],  # Setting the range for sales in millions\n",
    "    grid=True,\n",
    "    linewidth=2, # Optional: line width for better visibility\n",
    ")\n",
    "\n",
    "plt.xticks(range(1999,2019,2), rotation=45)\n",
    "\n",
    "plt.title(\"Top 5 Gaming Platforms: Sales Distribution Over the Years\")\n",
    "plt.xlabel(\"Years\")\n",
    "plt.ylabel(\"Sales in USD Millions\")\n",
    "plt.legend(title='Platform', bbox_to_anchor=(1.05, 1), loc='upper left')\n",
    "plt.show()"
   ]
  },
  {
   "cell_type": "code",
   "execution_count": null,
   "metadata": {},
   "outputs": [],
   "source": [
    "# Find Platforms that used to be popular but now have zero sales\n",
    "\n",
    "# List all unique platforms in the dataset\n",
    "all_platforms = DF['platform'].unique()\n",
    "\n",
    "#Calculate total sales per platform per year\n",
    "platform_year_sales = DF.groupby(['platform','year_of_release'])['total_sales'].sum().reset_index()\n",
    "\n",
    "# Identify platforms that had sales before 2017\n",
    "popular_platforms_before_2017 = platform_year_sales[(platform_year_sales['year_of_release'] < 2017) & (platform_year_sales['total_sales'] > 0)]['platform'].unique()\n",
    "\n",
    "# Identify platforms with sales data in 2017\n",
    "platforms_in_2017 = platform_year_sales[platform_year_sales['year_of_release'] == 2017]['platform'].unique()\n",
    "\n",
    "# Platforms that had entries before 2017 but are missing in 2017\n",
    "popular_platforms_before_2017_set = set(popular_platforms_before_2017)\n",
    "platforms_in_2017_set = set(platforms_in_2017)\n",
    "missing_platforms_2017 = list(popular_platforms_before_2017_set - platforms_in_2017_set)\n",
    "print(\"Platforms missing in 2017 that were once popular:\", missing_platforms_2017)\n"
   ]
  },
  {
   "cell_type": "code",
   "execution_count": null,
   "metadata": {},
   "outputs": [],
   "source": [
    "# Calculate lifespan for missing platforms\n",
    "\n",
    "missing_platform_lifespan = platform_year_sales[platform_year_sales['platform'].isin(missing_platforms_2017)]\n",
    "missing_platform_lifespan = missing_platform_lifespan.groupby('platform')['year_of_release'].agg(['min', 'max']).reset_index()\n",
    "missing_platform_lifespan['lifespan_years'] = missing_platform_lifespan['max'] - missing_platform_lifespan['min']\n",
    "\n",
    "# Print the lifespan of missing platforms\n",
    "print(missing_platform_lifespan.sort_values(by='lifespan_years', ascending=False))"
   ]
  },
  {
   "cell_type": "code",
   "execution_count": null,
   "metadata": {},
   "outputs": [],
   "source": [
    "# Now find how long it generally takes for new platforms to appear and old ones to fade\n",
    "\n",
    "# Calculate the first and last apearance of each platform\n",
    "platform_lifespan = DF.groupby('platform')['year_of_release'].agg(['min','max']).reset_index()\n",
    "platform_lifespan.columns = ['platform', 'first_appearance', 'last_appearance']\n",
    "platform_lifespan['lifespan'] = platform_lifespan['last_appearance'] - platform_lifespan['first_appearance']\n",
    "\n",
    "# Check calculations\n",
    "print(platform_lifespan)"
   ]
  },
  {
   "cell_type": "code",
   "execution_count": null,
   "metadata": {},
   "outputs": [],
   "source": [
    "# Find the year when each platform first appeared\n",
    "new_platforms = platform_lifespan[['platform', 'first_appearance']].sort_values(by='first_appearance')\n",
    "\n",
    "# Calculate the intervals between new platform introductions\n",
    "new_platforms['introduction_interval'] = new_platforms['first_appearance'].diff().fillna(0).astype(int)\n",
    "\n",
    "# Check calculations\n",
    "print(new_platforms)"
   ]
  },
  {
   "cell_type": "code",
   "execution_count": null,
   "metadata": {},
   "outputs": [],
   "source": [
    "# Find the average length of time for new platforms to appear\n",
    "average_interval = new_platforms['introduction_interval'].mean().astype(int)\n",
    "\n",
    "# Display the average length of time for new platforms to appear\n",
    "print(average_interval)"
   ]
  },
  {
   "cell_type": "code",
   "execution_count": null,
   "metadata": {},
   "outputs": [],
   "source": [
    "# Take into consideration the standard deviation\n",
    "average_interval_std = new_platforms['introduction_interval'].std()\n",
    "print(average_interval_std)\n",
    "\n",
    "print(f\"The average length of time for new platforms to appear, and old ones to fade out, is about 1-2 years.\")"
   ]
  },
  {
   "cell_type": "code",
   "execution_count": 786,
   "metadata": {},
   "outputs": [
    {
     "name": "stdout",
     "output_type": "stream",
     "text": [
      "                                           name platform  year_of_release  \\\n",
      "11842                                Still Life       XB             2005   \n",
      "4203          Dance Dance Revolution: Mario Mix       GC             2005   \n",
      "1578         Tamagotchi Connection: Corner Shop       DS             2005   \n",
      "10463  Tom Clancy's Splinter Cell: Chaos Theory       GC             2005   \n",
      "4215                        Destroy All Humans!       XB             2005   \n",
      "...                                         ...      ...              ...   \n",
      "14089                           Just Dance 2017     XOne             2017   \n",
      "8009                            Just Dance 2017      Wii             2017   \n",
      "14090                           Just Dance 2017     X360             2017   \n",
      "10847                           Just Dance 2017     WiiU             2017   \n",
      "11571                  Earth Defense Force 2017     X360             2017   \n",
      "\n",
      "            genre  na_sales  eu_sales  jp_sales  other_sales  critic_score  \\\n",
      "11842   Adventure      0.05      0.02      0.00         0.00          70.0   \n",
      "4203         Misc      0.36      0.09      0.00         0.01          69.0   \n",
      "1578   Simulation      0.10      0.02      1.12         0.01          59.0   \n",
      "10463      Action      0.08      0.02      0.00         0.00          81.0   \n",
      "4215      Shooter      0.34      0.11      0.00         0.02           NaN   \n",
      "...           ...       ...       ...       ...          ...           ...   \n",
      "14089        Misc      0.03      0.00      0.00         0.00          75.0   \n",
      "8009         Misc      0.06      0.11      0.00         0.01           NaN   \n",
      "14090        Misc      0.02      0.02      0.00         0.00           NaN   \n",
      "10847        Misc      0.03      0.06      0.00         0.01           NaN   \n",
      "11571      Action      0.04      0.00      0.03         0.00          69.0   \n",
      "\n",
      "       user_score rating  total_sales  \n",
      "11842         8.2      M         0.07  \n",
      "4203          8.4      E         0.46  \n",
      "1578          7.7      E         1.25  \n",
      "10463         8.5      M         0.10  \n",
      "4215          NaN    NaN         0.47  \n",
      "...           ...    ...          ...  \n",
      "14089         8.0   E10+         0.03  \n",
      "8009          NaN   E10+         0.18  \n",
      "14090         NaN   E10+         0.04  \n",
      "10847         NaN   E10+         0.10  \n",
      "11571         7.7      T         0.07  \n",
      "\n",
      "[11291 rows x 12 columns]\n"
     ]
    }
   ],
   "source": [
    "# Moving forward we should only use data from 2000-2017, this is the time period where the most growth for sales and development of different platforms and games saw a surge of growth.\n",
    "\n",
    "# Create the dataframe we will be focusing on moving forward\n",
    "DF_new = DF[(DF['year_of_release'] >= 2005) & (DF['year_of_release']<= 2017)]\n",
    "\n",
    "# Put the new dataframe in chronological order based on the year_of_release column\n",
    "DF_new_sorted = DF_new.sort_values(by='year_of_release', ascending=True)\n",
    "\n",
    "# Display new dataframe\n",
    "print(DF_new_sorted)"
   ]
  },
  {
   "cell_type": "code",
   "execution_count": 787,
   "metadata": {},
   "outputs": [
    {
     "name": "stdout",
     "output_type": "stream",
     "text": [
      "   platform  total_sales\n",
      "14     X360       960.49\n",
      "8       PS3       930.68\n",
      "12      Wii       890.97\n",
      "2        DS       784.57\n",
      "7       PS2       448.42\n",
      "9       PS4       312.32\n",
      "10      PSP       282.93\n",
      "0       3DS       257.70\n",
      "5        PC       165.89\n",
      "16     XOne       159.32\n",
      "13     WiiU        82.19\n",
      "15       XB        66.72\n",
      "11      PSV        53.46\n",
      "3       GBA        43.12\n",
      "4        GC        41.03\n",
      "6        PS         0.37\n",
      "1        DC         0.06\n"
     ]
    }
   ],
   "source": [
    "# Find which platforms are leading in sales within new dataframe\n",
    "leading_platforms = DF_new_sorted.groupby(['platform'])['total_sales'].sum().reset_index()\n",
    "\n",
    "# Display data for platform sales within the new dataframe\n",
    "print(leading_platforms.sort_values(by='total_sales', ascending=False))\n",
    "\n",
    "# The top 5 leading platforms in sales are Xbox360, PS3, Wii, Nintendo DS, and PS2"
   ]
  },
  {
   "cell_type": "code",
   "execution_count": 788,
   "metadata": {},
   "outputs": [
    {
     "name": "stdout",
     "output_type": "stream",
     "text": [
      "    platform  year_of_release  total_sales\n",
      "0        3DS             2011        63.18\n",
      "1        3DS             2012        51.12\n",
      "2        3DS             2013        56.56\n",
      "3        3DS             2014        43.95\n",
      "4        3DS             2015        27.75\n",
      "..       ...              ...          ...\n",
      "115     XOne             2013        19.12\n",
      "116     XOne             2014        53.25\n",
      "117     XOne             2015        60.38\n",
      "118     XOne             2016        26.50\n",
      "119     XOne             2017         0.07\n",
      "\n",
      "[120 rows x 3 columns]\n"
     ]
    }
   ],
   "source": [
    "# Which platforms are growing and which are shrinking\n",
    "\n",
    "# Calculate the total annual sales for each platform\n",
    "annual_platform_sales = DF_new_sorted.groupby(['platform','year_of_release'])['total_sales'].sum().reset_index()\n",
    "\n",
    "# Display calculations\n",
    "print(annual_platform_sales)"
   ]
  },
  {
   "cell_type": "code",
   "execution_count": 789,
   "metadata": {},
   "outputs": [
    {
     "name": "stdout",
     "output_type": "stream",
     "text": [
      "   platform  average_growth\n",
      "0       PS4        0.356500\n",
      "1      X360        0.255627\n",
      "2        DC        0.100000\n",
      "3        PC        0.095506\n",
      "4      XOne        0.090117\n",
      "5       PSV        0.071978\n",
      "6       PS3        0.011210\n",
      "7        PS        0.000000\n",
      "8       GBA       -0.103113\n",
      "9        GC       -0.132861\n",
      "10      3DS       -0.188405\n",
      "11       XB       -0.203208\n",
      "12       DS       -0.204820\n",
      "13      PSP       -0.279341\n",
      "14      PS2       -0.330334\n",
      "15     WiiU       -0.332502\n",
      "16      Wii       -0.343392\n"
     ]
    }
   ],
   "source": [
    "# Pivot the data to see sales trends over time\n",
    "sales_trend_pivot = annual_platform_sales.pivot(index='year_of_release', columns='platform', values='total_sales')\n",
    "\n",
    "# Calculate year-over-year growth for each platform\n",
    "sales_trend = sales_trend_pivot.pct_change()\n",
    "\n",
    "# Determine if platforms are growing or shrinking based on recent years performance\n",
    "platform_trend = sales_trend.mean().sort_values(ascending=False).reset_index()\n",
    "platform_trend.columns = ['platform', 'average_growth']\n",
    "\n",
    "# Display calculation\n",
    "print(platform_trend)\n",
    "# From this data the top growing platforms for the designated time period are PS4, Xbox360, DC, PC, XOne, PSV, PS3\n",
    "# From the data the top shring platforms for the designated time period are Wii, WiiU, PS2, PSP, DS, XB, 3DS"
   ]
  },
  {
   "cell_type": "code",
   "execution_count": 803,
   "metadata": {},
   "outputs": [
    {
     "data": {
      "image/png": "[encoded data removed]",
      "text/plain": [
       "<Figure size 800x800 with 1 Axes>"
      ]
     },
     "metadata": {},
     "output_type": "display_data"
    }
   ],
   "source": [
    "# Taking the global sales of all games from the new dataframe, create a boxplot\n",
    "\n",
    "# Calculate the global sales for each platform\n",
    "global_platform_sales = DF_new_sorted.groupby(['platform'])['total_sales'].sum().reset_index()\n",
    "\n",
    "DF_new_sorted['log_total_sales'] = np.log1p(DF_new_sorted['total_sales'])\n",
    "\n",
    "# Create a boxplot\n",
    "plt.figure(figsize=(8, 8))\n",
    "plt.boxplot([DF_new_sorted[DF_new_sorted['platform'] == platform]['total_sales'] for platform in DF_new_sorted['platform'].unique()],\n",
    "            labels=DF_new_sorted['platform'].unique())\n",
    "plt.title(\"Log-Scaled Global Sales of Games by Platform\")\n",
    "plt.xlabel(\"Platform\")\n",
    "plt.ylabel(\"Log of Global Sales (in millions)\")\n",
    "plt.grid(True)\n",
    "plt.ylim(0, 1)\n",
    "plt.xticks(rotation=45, ha='right')\n",
    "plt.show()"
   ]
  }
 ],
 "metadata": {
  "kernelspec": {
   "display_name": "Python 3",
   "language": "python",
   "name": "python3"
  },
  "language_info": {
   "codemirror_mode": {
    "name": "ipython",
    "version": 3
   },
   "file_extension": ".py",
   "mimetype": "text/x-python",
   "name": "python",
   "nbconvert_exporter": "python",
   "pygments_lexer": "ipython3",
   "version": "3.11.7"
  }
 },
 "nbformat": 4,
 "nbformat_minor": 2
}
