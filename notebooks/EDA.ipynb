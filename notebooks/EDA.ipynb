{
 "cells": [
  {
   "cell_type": "code",
   "execution_count": 149,
   "metadata": {},
   "outputs": [],
   "source": [
    "# Import packages needed for analysis of data\n",
    "import pandas as pd\n",
    "import plotly.express as px\n",
    "import re"
   ]
  },
  {
   "cell_type": "code",
   "execution_count": 150,
   "metadata": {},
   "outputs": [
    {
     "name": "stdout",
     "output_type": "stream",
     "text": [
      "<class 'pandas.core.frame.DataFrame'>\n",
      "RangeIndex: 16715 entries, 0 to 16714\n",
      "Data columns (total 11 columns):\n",
      " #   Column           Non-Null Count  Dtype  \n",
      "---  ------           --------------  -----  \n",
      " 0   Name             16713 non-null  object \n",
      " 1   Platform         16715 non-null  object \n",
      " 2   Year_of_Release  16446 non-null  float64\n",
      " 3   Genre            16713 non-null  object \n",
      " 4   NA_sales         16715 non-null  float64\n",
      " 5   EU_sales         16715 non-null  float64\n",
      " 6   JP_sales         16715 non-null  float64\n",
      " 7   Other_sales      16715 non-null  float64\n",
      " 8   Critic_Score     8137 non-null   float64\n",
      " 9   User_Score       10014 non-null  object \n",
      " 10  Rating           9949 non-null   object \n",
      "dtypes: float64(6), object(5)\n",
      "memory usage: 1.4+ MB\n",
      "None\n"
     ]
    }
   ],
   "source": [
    "# Print info of DataFrame to get all attributes of table at once\n",
    "DF = pd.read_csv(\"dataset.csv\")\n",
    "print(DF.info())"
   ]
  },
  {
   "cell_type": "code",
   "execution_count": 151,
   "metadata": {},
   "outputs": [
    {
     "name": "stdout",
     "output_type": "stream",
     "text": [
      "<class 'pandas.core.frame.DataFrame'>\n",
      "RangeIndex: 16715 entries, 0 to 16714\n",
      "Data columns (total 11 columns):\n",
      " #   Column           Non-Null Count  Dtype  \n",
      "---  ------           --------------  -----  \n",
      " 0   name             16713 non-null  object \n",
      " 1   platform         16715 non-null  object \n",
      " 2   year_of_release  16446 non-null  float64\n",
      " 3   genre            16713 non-null  object \n",
      " 4   na_sales         16715 non-null  float64\n",
      " 5   eu_sales         16715 non-null  float64\n",
      " 6   jp_sales         16715 non-null  float64\n",
      " 7   other_sales      16715 non-null  float64\n",
      " 8   critic_score     8137 non-null   float64\n",
      " 9   user_score       10014 non-null  object \n",
      " 10  rating           9949 non-null   object \n",
      "dtypes: float64(6), object(5)\n",
      "memory usage: 1.4+ MB\n",
      "None\n"
     ]
    }
   ],
   "source": [
    "# Rename column names to contain only lowercase letters\n",
    "DF = DF.rename(\n",
    "    columns={\n",
    "        'Name': 'name',\n",
    "        'Platform': 'platform',\n",
    "        'Year_of_Release': 'year_of_release',\n",
    "        'Genre': 'genre',\n",
    "        'NA_sales': 'na_sales',\n",
    "        'EU_sales': 'eu_sales',\n",
    "        'JP_sales': 'jp_sales',\n",
    "        'Other_sales': 'other_sales',\n",
    "        'Critic_Score': 'critic_score',\n",
    "        'User_Score': 'user_score',\n",
    "        'Rating': 'rating'\n",
    "    }\n",
    ")\n",
    "\n",
    "# Verify the change\n",
    "print(DF.info())\n"
   ]
  },
  {
   "cell_type": "code",
   "execution_count": 152,
   "metadata": {},
   "outputs": [
    {
     "name": "stdout",
     "output_type": "stream",
     "text": [
      "<class 'pandas.core.frame.DataFrame'>\n",
      "RangeIndex: 16715 entries, 0 to 16714\n",
      "Data columns (total 11 columns):\n",
      " #   Column           Non-Null Count  Dtype  \n",
      "---  ------           --------------  -----  \n",
      " 0   name             16713 non-null  object \n",
      " 1   platform         16715 non-null  object \n",
      " 2   year_of_release  16446 non-null  float64\n",
      " 3   genre            16713 non-null  object \n",
      " 4   na_sales         16715 non-null  float64\n",
      " 5   eu_sales         16715 non-null  float64\n",
      " 6   jp_sales         16715 non-null  float64\n",
      " 7   other_sales      16715 non-null  float64\n",
      " 8   critic_score     8137 non-null   float64\n",
      " 9   user_score       7590 non-null   float64\n",
      " 10  rating           9949 non-null   object \n",
      "dtypes: float64(7), object(4)\n",
      "memory usage: 1.4+ MB\n",
      "None\n"
     ]
    }
   ],
   "source": [
    "# Change the 'user_score' column from object to float to be able to conduct mathematical equations (ex: mean score, min score, max score, std score)\n",
    "DF['user_score'] = pd.to_numeric(DF['user_score'], errors='coerce')\n",
    "\n",
    "# Verify the change\n",
    "print(DF.info())\n"
   ]
  },
  {
   "cell_type": "code",
   "execution_count": 153,
   "metadata": {},
   "outputs": [
    {
     "name": "stdout",
     "output_type": "stream",
     "text": [
      "                       name platform  year_of_release         genre  na_sales  \\\n",
      "0                Wii Sports      Wii           2006.0        Sports     41.36   \n",
      "1         Super Mario Bros.      NES           1985.0      Platform     29.08   \n",
      "2            Mario Kart Wii      Wii           2008.0        Racing     15.68   \n",
      "3         Wii Sports Resort      Wii           2009.0        Sports     15.61   \n",
      "4  Pokemon Red/Pokemon Blue       GB           1996.0  Role-Playing     11.27   \n",
      "\n",
      "   eu_sales  jp_sales  other_sales  critic_score  user_score rating  \n",
      "0     28.96      3.77         8.45          76.0         8.0      E  \n",
      "1      3.58      6.81         0.77           NaN         NaN    NaN  \n",
      "2     12.76      3.79         3.29          82.0         8.3      E  \n",
      "3     10.93      3.28         2.95          80.0         8.0      E  \n",
      "4      8.89     10.22         1.00           NaN         NaN    NaN  \n"
     ]
    }
   ],
   "source": [
    "# Due to such a large dataset, it is not practical to display all the rows, thus we will print the first and last 5 rows.\n",
    "# Print the first 5 rows for a small sample of data to give a quick snapshot of the structure of the dataset.\n",
    "print(DF.head(5))"
   ]
  },
  {
   "cell_type": "code",
   "execution_count": 154,
   "metadata": {},
   "outputs": [
    {
     "name": "stdout",
     "output_type": "stream",
     "text": [
      "                                name platform  year_of_release       genre  \\\n",
      "16710  Samurai Warriors: Sanada Maru      PS3           2016.0      Action   \n",
      "16711               LMA Manager 2007     X360           2006.0      Sports   \n",
      "16712        Haitaka no Psychedelica      PSV           2016.0   Adventure   \n",
      "16713               Spirits & Spells      GBA           2003.0    Platform   \n",
      "16714            Winning Post 8 2016      PSV           2016.0  Simulation   \n",
      "\n",
      "       na_sales  eu_sales  jp_sales  other_sales  critic_score  user_score  \\\n",
      "16710      0.00      0.00      0.01          0.0           NaN         NaN   \n",
      "16711      0.00      0.01      0.00          0.0           NaN         NaN   \n",
      "16712      0.00      0.00      0.01          0.0           NaN         NaN   \n",
      "16713      0.01      0.00      0.00          0.0           NaN         NaN   \n",
      "16714      0.00      0.00      0.01          0.0           NaN         NaN   \n",
      "\n",
      "      rating  \n",
      "16710    NaN  \n",
      "16711    NaN  \n",
      "16712    NaN  \n",
      "16713    NaN  \n",
      "16714    NaN  \n"
     ]
    }
   ],
   "source": [
    "# Print last 5 rows for another sample of data to check if there are any special cases, outliers, or null values that weren't visible at the beginning.\n",
    "print(DF.tail(5))"
   ]
  },
  {
   "cell_type": "code",
   "execution_count": 155,
   "metadata": {},
   "outputs": [
    {
     "name": "stdout",
     "output_type": "stream",
     "text": [
      "name                  2\n",
      "platform              0\n",
      "year_of_release     269\n",
      "genre                 2\n",
      "na_sales              0\n",
      "eu_sales              0\n",
      "jp_sales              0\n",
      "other_sales           0\n",
      "critic_score       8578\n",
      "user_score         9125\n",
      "rating             6766\n",
      "dtype: int64\n"
     ]
    }
   ],
   "source": [
    "# Find the total of missing values for each column\n",
    "print(DF.isna().sum())"
   ]
  },
  {
   "cell_type": "code",
   "execution_count": 156,
   "metadata": {},
   "outputs": [
    {
     "name": "stdout",
     "output_type": "stream",
     "text": [
      "      name platform  year_of_release genre  na_sales  eu_sales  jp_sales  \\\n",
      "659    NaN      GEN           1993.0   NaN      1.78      0.53      0.00   \n",
      "14244  NaN      GEN           1993.0   NaN      0.00      0.00      0.03   \n",
      "\n",
      "       other_sales  critic_score  user_score rating  \n",
      "659           0.08           NaN         NaN    NaN  \n",
      "14244         0.00           NaN         NaN    NaN  \n"
     ]
    }
   ],
   "source": [
    "# Check to see if the missing values for the games with no names is significant enough to keep in the dataset\n",
    "missing_specific_name = DF[DF['name'].isnull()]\n",
    "print(missing_specific_name)\n",
    "\n",
    "# Because there are sales for the games with no names, will not drop them from the data set so as to have a more accurate analysis later on\n",
    "# The names could be missing, again, due to human error with information entry and source limitations if the data was collected from multiple platforms and databases"
   ]
  },
  {
   "cell_type": "code",
   "execution_count": 157,
   "metadata": {},
   "outputs": [
    {
     "name": "stdout",
     "output_type": "stream",
     "text": [
      "name                  0\n",
      "platform              0\n",
      "year_of_release     269\n",
      "genre                 2\n",
      "na_sales              0\n",
      "eu_sales              0\n",
      "jp_sales              0\n",
      "other_sales           0\n",
      "critic_score       8578\n",
      "user_score         9125\n",
      "rating             6766\n",
      "dtype: int64\n"
     ]
    }
   ],
   "source": [
    "# Will change NaN to N/A for the 2 games with no names to maintain consistency and good practice\n",
    "DF['name'] = DF['name'].fillna('N/A')\n",
    "\n",
    "# Verify the changes\n",
    "print(DF.isnull().sum())"
   ]
  },
  {
   "cell_type": "code",
   "execution_count": 158,
   "metadata": {},
   "outputs": [
    {
     "name": "stdout",
     "output_type": "stream",
     "text": [
      "                                    name platform  year_of_release  \\\n",
      "183                      Madden NFL 2004      PS2              NaN   \n",
      "377                     FIFA Soccer 2004      PS2              NaN   \n",
      "456           LEGO Batman: The Videogame      Wii              NaN   \n",
      "475           wwe Smackdown vs. Raw 2006      PS2              NaN   \n",
      "609                       Space Invaders     2600              NaN   \n",
      "...                                  ...      ...              ...   \n",
      "16373  PDC World Championship Darts 2008      PSP              NaN   \n",
      "16405                      Freaky Flyers       GC              NaN   \n",
      "16448                          Inversion       PC              NaN   \n",
      "16458        Hakuouki: Shinsengumi Kitan      PS3              NaN   \n",
      "16522                       Virtua Quest       GC              NaN   \n",
      "\n",
      "              genre  na_sales  eu_sales  jp_sales  other_sales  critic_score  \\\n",
      "183          Sports      4.26      0.26      0.01         0.71          94.0   \n",
      "377          Sports      0.59      2.36      0.04         0.51          84.0   \n",
      "456          Action      1.80      0.97      0.00         0.29          74.0   \n",
      "475        Fighting      1.57      1.02      0.00         0.41           NaN   \n",
      "609         Shooter      2.36      0.14      0.00         0.03           NaN   \n",
      "...             ...       ...       ...       ...          ...           ...   \n",
      "16373        Sports      0.01      0.00      0.00         0.00          43.0   \n",
      "16405        Racing      0.01      0.00      0.00         0.00          69.0   \n",
      "16448       Shooter      0.01      0.00      0.00         0.00          59.0   \n",
      "16458     Adventure      0.01      0.00      0.00         0.00           NaN   \n",
      "16522  Role-Playing      0.01      0.00      0.00         0.00          55.0   \n",
      "\n",
      "       user_score rating  \n",
      "183           8.5      E  \n",
      "377           6.4      E  \n",
      "456           7.9   E10+  \n",
      "475           NaN    NaN  \n",
      "609           NaN    NaN  \n",
      "...           ...    ...  \n",
      "16373         NaN   E10+  \n",
      "16405         6.5      T  \n",
      "16448         6.7      M  \n",
      "16458         NaN    NaN  \n",
      "16522         5.5      T  \n",
      "\n",
      "[269 rows x 11 columns]\n"
     ]
    }
   ],
   "source": [
    "# Check to see if the year might be in the name of the game, if so we can use that information in a loop to place it in the year_of_release column\n",
    "missing_specific_year= DF[DF['year_of_release'].isnull()]\n",
    "print(missing_specific_year)"
   ]
  },
  {
   "cell_type": "code",
   "execution_count": 159,
   "metadata": {},
   "outputs": [
    {
     "name": "stdout",
     "output_type": "stream",
     "text": [
      "                                name platform year_of_release         genre  \\\n",
      "0                         Wii Sports      Wii          2006.0        Sports   \n",
      "1                  Super Mario Bros.      NES          1985.0      Platform   \n",
      "2                     Mario Kart Wii      Wii          2008.0        Racing   \n",
      "3                  Wii Sports Resort      Wii          2009.0        Sports   \n",
      "4           Pokemon Red/Pokemon Blue       GB          1996.0  Role-Playing   \n",
      "...                              ...      ...             ...           ...   \n",
      "16710  Samurai Warriors: Sanada Maru      PS3          2016.0        Action   \n",
      "16711               LMA Manager 2007     X360            2007        Sports   \n",
      "16712        Haitaka no Psychedelica      PSV          2016.0     Adventure   \n",
      "16713               Spirits & Spells      GBA          2003.0      Platform   \n",
      "16714            Winning Post 8 2016      PSV            2016    Simulation   \n",
      "\n",
      "       na_sales  eu_sales  jp_sales  other_sales  critic_score  user_score  \\\n",
      "0         41.36     28.96      3.77         8.45          76.0         8.0   \n",
      "1         29.08      3.58      6.81         0.77           NaN         NaN   \n",
      "2         15.68     12.76      3.79         3.29          82.0         8.3   \n",
      "3         15.61     10.93      3.28         2.95          80.0         8.0   \n",
      "4         11.27      8.89     10.22         1.00           NaN         NaN   \n",
      "...         ...       ...       ...          ...           ...         ...   \n",
      "16710      0.00      0.00      0.01         0.00           NaN         NaN   \n",
      "16711      0.00      0.01      0.00         0.00           NaN         NaN   \n",
      "16712      0.00      0.00      0.01         0.00           NaN         NaN   \n",
      "16713      0.01      0.00      0.00         0.00           NaN         NaN   \n",
      "16714      0.00      0.00      0.01         0.00           NaN         NaN   \n",
      "\n",
      "      rating  \n",
      "0          E  \n",
      "1        NaN  \n",
      "2          E  \n",
      "3          E  \n",
      "4        NaN  \n",
      "...      ...  \n",
      "16710    NaN  \n",
      "16711    NaN  \n",
      "16712    NaN  \n",
      "16713    NaN  \n",
      "16714    NaN  \n",
      "\n",
      "[16715 rows x 11 columns]\n"
     ]
    }
   ],
   "source": [
    "# We now know there are a few games that have the year in the game title\n",
    "\n",
    "# Loop through each row to extract year and update the year_of_release column\n",
    "for index, row in DF.iterrows():\n",
    "    game_name = row['name']\n",
    "    if isinstance(game_name, str):  # Check if game_name is a string\n",
    "        match = re.search(r'\\b(\\d{4})\\b', game_name)\n",
    "        if match:\n",
    "            DF.at[index, 'year_of_release'] = str(match.group(1))  # Convert to string\n",
    "\n",
    "# Display the DataFrame\n",
    "print(DF)"
   ]
  },
  {
   "cell_type": "code",
   "execution_count": 160,
   "metadata": {},
   "outputs": [
    {
     "name": "stdout",
     "output_type": "stream",
     "text": [
      "name                  0\n",
      "platform              0\n",
      "year_of_release     252\n",
      "genre                 2\n",
      "na_sales              0\n",
      "eu_sales              0\n",
      "jp_sales              0\n",
      "other_sales           0\n",
      "critic_score       8578\n",
      "user_score         9125\n",
      "rating             6766\n",
      "dtype: int64\n"
     ]
    }
   ],
   "source": [
    "# Check to see how many missing values we now have in the year_of_release column\n",
    "print(DF.isnull().sum())"
   ]
  },
  {
   "cell_type": "code",
   "execution_count": 161,
   "metadata": {},
   "outputs": [
    {
     "name": "stdout",
     "output_type": "stream",
     "text": [
      "name                  0\n",
      "platform              0\n",
      "year_of_release       0\n",
      "genre                 2\n",
      "na_sales              0\n",
      "eu_sales              0\n",
      "jp_sales              0\n",
      "other_sales           0\n",
      "critic_score       8578\n",
      "user_score         9125\n",
      "rating             6766\n",
      "dtype: int64\n"
     ]
    }
   ],
   "source": [
    "# There could be multiple reasons as to why there is no information for the year_of_release, including: incorrect data entry due to human error, inconsistent formatting across datasets, and source limitations if the data was compiled from multiple platforms or databases\n",
    "# Will change NaN to N/A, this is good practice, and will not affect any analysis done later on\n",
    "DF['year_of_release'] = DF['year_of_release'].fillna('N/A')\n",
    "\n",
    "# Verify the changes\n",
    "print(DF.isnull().sum())"
   ]
  },
  {
   "cell_type": "code",
   "execution_count": 162,
   "metadata": {},
   "outputs": [
    {
     "name": "stdout",
     "output_type": "stream",
     "text": [
      "      name platform year_of_release genre  na_sales  eu_sales  jp_sales  \\\n",
      "659    N/A      GEN          1993.0   NaN      1.78      0.53      0.00   \n",
      "14244  N/A      GEN          1993.0   NaN      0.00      0.00      0.03   \n",
      "\n",
      "       other_sales  critic_score  user_score rating  \n",
      "659           0.08           NaN         NaN    NaN  \n",
      "14244         0.00           NaN         NaN    NaN  \n"
     ]
    }
   ],
   "source": [
    "# Evaluate the missing values in the genre column\n",
    "missing_specific_genre = DF[DF['genre'].isnull()]\n",
    "print(missing_specific_genre)"
   ]
  },
  {
   "cell_type": "code",
   "execution_count": 163,
   "metadata": {},
   "outputs": [
    {
     "name": "stdout",
     "output_type": "stream",
     "text": [
      "name                  0\n",
      "platform              0\n",
      "year_of_release       0\n",
      "genre                 0\n",
      "na_sales              0\n",
      "eu_sales              0\n",
      "jp_sales              0\n",
      "other_sales           0\n",
      "critic_score       8578\n",
      "user_score         9125\n",
      "rating             6766\n",
      "dtype: int64\n"
     ]
    }
   ],
   "source": [
    "# There are only two missing values from the genre column, this could be due to incomplete data entry or lack of genre classification\n",
    "# To maintain consistency and good practice, will fill the missing values for the genre column with N/A\n",
    "\n",
    "DF['genre'] = DF['genre'].fillna('N/A')\n",
    "\n",
    "# Verify the changes\n",
    "print(DF.isnull().sum())"
   ]
  },
  {
   "cell_type": "code",
   "execution_count": 164,
   "metadata": {},
   "outputs": [
    {
     "name": "stdout",
     "output_type": "stream",
     "text": [
      "                                name platform year_of_release         genre  \\\n",
      "1                  Super Mario Bros.      NES          1985.0      Platform   \n",
      "4           Pokemon Red/Pokemon Blue       GB          1996.0  Role-Playing   \n",
      "5                             Tetris       GB          1989.0        Puzzle   \n",
      "9                          Duck Hunt      NES          1984.0       Shooter   \n",
      "10                        Nintendogs       DS          2005.0    Simulation   \n",
      "...                              ...      ...             ...           ...   \n",
      "16710  Samurai Warriors: Sanada Maru      PS3          2016.0        Action   \n",
      "16711               LMA Manager 2007     X360            2007        Sports   \n",
      "16712        Haitaka no Psychedelica      PSV          2016.0     Adventure   \n",
      "16713               Spirits & Spells      GBA          2003.0      Platform   \n",
      "16714            Winning Post 8 2016      PSV            2016    Simulation   \n",
      "\n",
      "       na_sales  eu_sales  jp_sales  other_sales  critic_score  user_score  \\\n",
      "1         29.08      3.58      6.81         0.77           NaN         NaN   \n",
      "4         11.27      8.89     10.22         1.00           NaN         NaN   \n",
      "5         23.20      2.26      4.22         0.58           NaN         NaN   \n",
      "9         26.93      0.63      0.28         0.47           NaN         NaN   \n",
      "10         9.05     10.95      1.93         2.74           NaN         NaN   \n",
      "...         ...       ...       ...          ...           ...         ...   \n",
      "16710      0.00      0.00      0.01         0.00           NaN         NaN   \n",
      "16711      0.00      0.01      0.00         0.00           NaN         NaN   \n",
      "16712      0.00      0.00      0.01         0.00           NaN         NaN   \n",
      "16713      0.01      0.00      0.00         0.00           NaN         NaN   \n",
      "16714      0.00      0.00      0.01         0.00           NaN         NaN   \n",
      "\n",
      "      rating  \n",
      "1        NaN  \n",
      "4        NaN  \n",
      "5        NaN  \n",
      "9        NaN  \n",
      "10       NaN  \n",
      "...      ...  \n",
      "16710    NaN  \n",
      "16711    NaN  \n",
      "16712    NaN  \n",
      "16713    NaN  \n",
      "16714    NaN  \n",
      "\n",
      "[8578 rows x 11 columns]\n"
     ]
    }
   ],
   "source": [
    "# Evaluate the missing critic_score column \n",
    "missing_specific_critic = DF[DF['critic_score'].isnull()]\n",
    "print(missing_specific_critic)"
   ]
  },
  {
   "cell_type": "code",
   "execution_count": 165,
   "metadata": {},
   "outputs": [
    {
     "name": "stdout",
     "output_type": "stream",
     "text": [
      "name                  0\n",
      "platform              0\n",
      "year_of_release       0\n",
      "genre                 0\n",
      "na_sales              0\n",
      "eu_sales              0\n",
      "jp_sales              0\n",
      "other_sales           0\n",
      "critic_score          0\n",
      "user_score         9125\n",
      "rating             6766\n",
      "dtype: int64\n"
     ]
    }
   ],
   "source": [
    "# There are quite a few games with a missing value, this could be due to lack of reviews (game did not receive enough reviews resulting in missing scores), new releases (this would mean there have not been any reviews yet), and/or censorship/restritctions (some platforms or publications may choose to not provide scores due to content concerns or company policies).\n",
    "# Even though there is a vast array of games with missing values for critic_score, we will not drop these but rather fill with N/A for further evaluation and analysis later.\n",
    "DF['critic_score'] = DF['critic_score'].fillna('N/A')\n",
    "\n",
    "# Verify the changes\n",
    "print(DF.isnull().sum())"
   ]
  },
  {
   "cell_type": "code",
   "execution_count": 166,
   "metadata": {},
   "outputs": [
    {
     "name": "stdout",
     "output_type": "stream",
     "text": [
      "                                name platform year_of_release         genre  \\\n",
      "1                  Super Mario Bros.      NES          1985.0      Platform   \n",
      "4           Pokemon Red/Pokemon Blue       GB          1996.0  Role-Playing   \n",
      "5                             Tetris       GB          1989.0        Puzzle   \n",
      "9                          Duck Hunt      NES          1984.0       Shooter   \n",
      "10                        Nintendogs       DS          2005.0    Simulation   \n",
      "...                              ...      ...             ...           ...   \n",
      "16710  Samurai Warriors: Sanada Maru      PS3          2016.0        Action   \n",
      "16711               LMA Manager 2007     X360            2007        Sports   \n",
      "16712        Haitaka no Psychedelica      PSV          2016.0     Adventure   \n",
      "16713               Spirits & Spells      GBA          2003.0      Platform   \n",
      "16714            Winning Post 8 2016      PSV            2016    Simulation   \n",
      "\n",
      "       na_sales  eu_sales  jp_sales  other_sales critic_score  user_score  \\\n",
      "1         29.08      3.58      6.81         0.77          N/A         NaN   \n",
      "4         11.27      8.89     10.22         1.00          N/A         NaN   \n",
      "5         23.20      2.26      4.22         0.58          N/A         NaN   \n",
      "9         26.93      0.63      0.28         0.47          N/A         NaN   \n",
      "10         9.05     10.95      1.93         2.74          N/A         NaN   \n",
      "...         ...       ...       ...          ...          ...         ...   \n",
      "16710      0.00      0.00      0.01         0.00          N/A         NaN   \n",
      "16711      0.00      0.01      0.00         0.00          N/A         NaN   \n",
      "16712      0.00      0.00      0.01         0.00          N/A         NaN   \n",
      "16713      0.01      0.00      0.00         0.00          N/A         NaN   \n",
      "16714      0.00      0.00      0.01         0.00          N/A         NaN   \n",
      "\n",
      "      rating  \n",
      "1        NaN  \n",
      "4        NaN  \n",
      "5        NaN  \n",
      "9        NaN  \n",
      "10       NaN  \n",
      "...      ...  \n",
      "16710    NaN  \n",
      "16711    NaN  \n",
      "16712    NaN  \n",
      "16713    NaN  \n",
      "16714    NaN  \n",
      "\n",
      "[9125 rows x 11 columns]\n"
     ]
    }
   ],
   "source": [
    "# Evaluate the missing values for user_score\n",
    "missing_specific_user = DF[DF['user_score'].isnull()]\n",
    "print(missing_specific_user)"
   ]
  },
  {
   "cell_type": "code",
   "execution_count": 167,
   "metadata": {},
   "outputs": [
    {
     "name": "stdout",
     "output_type": "stream",
     "text": [
      "name                  0\n",
      "platform              0\n",
      "year_of_release       0\n",
      "genre                 0\n",
      "na_sales              0\n",
      "eu_sales              0\n",
      "jp_sales              0\n",
      "other_sales           0\n",
      "critic_score          0\n",
      "user_score            0\n",
      "rating             6766\n",
      "dtype: int64\n"
     ]
    }
   ],
   "source": [
    "# There are a lot of missing values for the user_score column, this could be due to, again, games being new releases so there are no reviews yet, data entry errors, and/or user rating systems vary significantly (some users might choose to not rate a game and thus leaving empty values)\n",
    "# Due to possible further evaluation and analysis of user_score column later, we will not drop these columns but rather fill the N/A (also for consistency and good practice)\n",
    "DF['user_score'] = DF['user_score'].fillna('N/A')\n",
    "\n",
    "# Verify the changes\n",
    "print(DF.isnull().sum())"
   ]
  },
  {
   "cell_type": "code",
   "execution_count": 168,
   "metadata": {},
   "outputs": [
    {
     "name": "stdout",
     "output_type": "stream",
     "text": [
      "                                name platform year_of_release         genre  \\\n",
      "1                  Super Mario Bros.      NES          1985.0      Platform   \n",
      "4           Pokemon Red/Pokemon Blue       GB          1996.0  Role-Playing   \n",
      "5                             Tetris       GB          1989.0        Puzzle   \n",
      "9                          Duck Hunt      NES          1984.0       Shooter   \n",
      "10                        Nintendogs       DS          2005.0    Simulation   \n",
      "...                              ...      ...             ...           ...   \n",
      "16710  Samurai Warriors: Sanada Maru      PS3          2016.0        Action   \n",
      "16711               LMA Manager 2007     X360            2007        Sports   \n",
      "16712        Haitaka no Psychedelica      PSV          2016.0     Adventure   \n",
      "16713               Spirits & Spells      GBA          2003.0      Platform   \n",
      "16714            Winning Post 8 2016      PSV            2016    Simulation   \n",
      "\n",
      "       na_sales  eu_sales  jp_sales  other_sales critic_score user_score  \\\n",
      "1         29.08      3.58      6.81         0.77          N/A        N/A   \n",
      "4         11.27      8.89     10.22         1.00          N/A        N/A   \n",
      "5         23.20      2.26      4.22         0.58          N/A        N/A   \n",
      "9         26.93      0.63      0.28         0.47          N/A        N/A   \n",
      "10         9.05     10.95      1.93         2.74          N/A        N/A   \n",
      "...         ...       ...       ...          ...          ...        ...   \n",
      "16710      0.00      0.00      0.01         0.00          N/A        N/A   \n",
      "16711      0.00      0.01      0.00         0.00          N/A        N/A   \n",
      "16712      0.00      0.00      0.01         0.00          N/A        N/A   \n",
      "16713      0.01      0.00      0.00         0.00          N/A        N/A   \n",
      "16714      0.00      0.00      0.01         0.00          N/A        N/A   \n",
      "\n",
      "      rating  \n",
      "1        NaN  \n",
      "4        NaN  \n",
      "5        NaN  \n",
      "9        NaN  \n",
      "10       NaN  \n",
      "...      ...  \n",
      "16710    NaN  \n",
      "16711    NaN  \n",
      "16712    NaN  \n",
      "16713    NaN  \n",
      "16714    NaN  \n",
      "\n",
      "[6766 rows x 11 columns]\n"
     ]
    }
   ],
   "source": [
    "# Evaluate the missing ESRB (The Entertainment Software Rating Board [this board evaluates a game's content and assigns an age rating, i.e. Teen or Mature]) ratings for games\n",
    "missing_specific_rating = DF[DF['rating'].isnull()]\n",
    "\n",
    "print(missing_specific_rating)"
   ]
  },
  {
   "cell_type": "code",
   "execution_count": 169,
   "metadata": {},
   "outputs": [
    {
     "name": "stdout",
     "output_type": "stream",
     "text": [
      "name               0\n",
      "platform           0\n",
      "year_of_release    0\n",
      "genre              0\n",
      "na_sales           0\n",
      "eu_sales           0\n",
      "jp_sales           0\n",
      "other_sales        0\n",
      "critic_score       0\n",
      "user_score         0\n",
      "rating             0\n",
      "dtype: int64\n"
     ]
    }
   ],
   "source": [
    "# There are many missing values for the rating column, this could be due to games being older or legacy games (older titles released before the ESRB was established in 1994 may lack an official rating), some might not have been submitted for ESRB rating as well as choosing to remain unrated to avoid specific classifications, and/or data inconsistencies or errors when collecting the data\n",
    "# Just to remain consistent with all missing values, NaN will be replaced with N/A for the rating column\n",
    "DF['rating'] = DF['rating'].fillna('N/A')\n",
    "\n",
    "# Verify the changes\n",
    "print(DF.isnull().sum())"
   ]
  }
 ],
 "metadata": {
  "kernelspec": {
   "display_name": "Python 3",
   "language": "python",
   "name": "python3"
  },
  "language_info": {
   "codemirror_mode": {
    "name": "ipython",
    "version": 3
   },
   "file_extension": ".py",
   "mimetype": "text/x-python",
   "name": "python",
   "nbconvert_exporter": "python",
   "pygments_lexer": "ipython3",
   "version": "3.11.7"
  }
 },
 "nbformat": 4,
 "nbformat_minor": 2
}
